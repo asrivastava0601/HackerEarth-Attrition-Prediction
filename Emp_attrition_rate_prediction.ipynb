{
  "nbformat": 4,
  "nbformat_minor": 0,
  "metadata": {
    "kernelspec": {
      "display_name": "Python 3",
      "language": "python",
      "name": "python3"
    },
    "language_info": {
      "codemirror_mode": {
        "name": "ipython",
        "version": 3
      },
      "file_extension": ".py",
      "mimetype": "text/x-python",
      "name": "python",
      "nbconvert_exporter": "python",
      "pygments_lexer": "ipython3",
      "version": "3.7.6"
    },
    "colab": {
      "name": "Emp_attrition_rate_prediction.ipynb",
      "provenance": [],
      "collapsed_sections": [],
      "include_colab_link": true
    }
  },
  "cells": [
    {
      "cell_type": "markdown",
      "metadata": {
        "id": "view-in-github",
        "colab_type": "text"
      },
      "source": [
        "<a href=\"https://colab.research.google.com/github/asrivastava0601/HackerEarth_Attrition_Prediction/blob/master/Emp_attrition_rate_prediction.ipynb\" target=\"_parent\"><img src=\"https://colab.research.google.com/assets/colab-badge.svg\" alt=\"Open In Colab\"/></a>"
      ]
    },
    {
      "cell_type": "code",
      "metadata": {
        "id": "QKaAQF-A6rfa",
        "colab_type": "code",
        "colab": {
          "base_uri": "https://localhost:8080/",
          "height": 122
        },
        "outputId": "abcbe828-11ae-4154-8441-b09969a1f429"
      },
      "source": [
        "from google.colab import drive\n",
        "drive.mount('/content/gdrive')"
      ],
      "execution_count": null,
      "outputs": [
        {
          "output_type": "stream",
          "text": [
            "Go to this URL in a browser: https://accounts.google.com/o/oauth2/auth?client_id=947318989803-6bn6qk8qdgf4n4g3pfee6491hc0brc4i.apps.googleusercontent.com&redirect_uri=urn%3aietf%3awg%3aoauth%3a2.0%3aoob&response_type=code&scope=email%20https%3a%2f%2fwww.googleapis.com%2fauth%2fdocs.test%20https%3a%2f%2fwww.googleapis.com%2fauth%2fdrive%20https%3a%2f%2fwww.googleapis.com%2fauth%2fdrive.photos.readonly%20https%3a%2f%2fwww.googleapis.com%2fauth%2fpeopleapi.readonly\n",
            "\n",
            "Enter your authorization code:\n",
            "··········\n",
            "Mounted at /content/gdrive\n"
          ],
          "name": "stdout"
        }
      ]
    },
    {
      "cell_type": "code",
      "metadata": {
        "id": "0kzwarwd6p2c",
        "colab_type": "code",
        "colab": {}
      },
      "source": [
        "import numpy as np\n",
        "import pandas as pd\n",
        "import math\n",
        "\n",
        "from sklearn.model_selection import train_test_split\n",
        "from sklearn.linear_model import LinearRegression\n",
        "from sklearn.metrics import mean_squared_error\n",
        "from math import sqrt\n"
      ],
      "execution_count": null,
      "outputs": []
    },
    {
      "cell_type": "code",
      "metadata": {
        "id": "DD_9DpgL6p2i",
        "colab_type": "code",
        "colab": {
          "base_uri": "https://localhost:8080/",
          "height": 71
        },
        "outputId": "585dfd60-2eca-4577-b5fb-4f29376550e2"
      },
      "source": [
        "import matplotlib.pyplot as plt\n",
        "import seaborn as sns\n",
        "%matplotlib inline"
      ],
      "execution_count": null,
      "outputs": [
        {
          "output_type": "stream",
          "text": [
            "/usr/local/lib/python3.6/dist-packages/statsmodels/tools/_testing.py:19: FutureWarning: pandas.util.testing is deprecated. Use the functions in the public API at pandas.testing instead.\n",
            "  import pandas.util.testing as tm\n"
          ],
          "name": "stderr"
        }
      ]
    },
    {
      "cell_type": "code",
      "metadata": {
        "id": "KGUxMP7T6p2m",
        "colab_type": "code",
        "colab": {
          "base_uri": "https://localhost:8080/",
          "height": 35
        },
        "outputId": "eb68e986-ee77-4c2d-fd12-91b3859885fd"
      },
      "source": [
        "import os\n",
        "\n",
        "os.getcwd()"
      ],
      "execution_count": null,
      "outputs": [
        {
          "output_type": "execute_result",
          "data": {
            "application/vnd.google.colaboratory.intrinsic": {
              "type": "string"
            },
            "text/plain": [
              "'/content'"
            ]
          },
          "metadata": {
            "tags": []
          },
          "execution_count": 4
        }
      ]
    },
    {
      "cell_type": "code",
      "metadata": {
        "id": "TfDVyp_w6p2r",
        "colab_type": "code",
        "colab": {}
      },
      "source": [
        "os.chdir(\"/content/gdrive/My Drive/HackerEarth_Predict_Emp_Attrition/Dataset\")"
      ],
      "execution_count": null,
      "outputs": []
    },
    {
      "cell_type": "code",
      "metadata": {
        "id": "6P1gtFTS6p2u",
        "colab_type": "code",
        "colab": {}
      },
      "source": [
        "### Reading the training data ###\n",
        "train_data = pd.read_csv(\"Train.csv\")"
      ],
      "execution_count": null,
      "outputs": []
    },
    {
      "cell_type": "code",
      "metadata": {
        "id": "DpLK81rc6p2x",
        "colab_type": "code",
        "colab": {
          "base_uri": "https://localhost:8080/",
          "height": 34
        },
        "outputId": "bd0a6845-37b5-4c0b-f3be-54210c583555"
      },
      "source": [
        "train_data.shape"
      ],
      "execution_count": null,
      "outputs": [
        {
          "output_type": "execute_result",
          "data": {
            "text/plain": [
              "(7000, 24)"
            ]
          },
          "metadata": {
            "tags": []
          },
          "execution_count": 7
        }
      ]
    },
    {
      "cell_type": "code",
      "metadata": {
        "id": "NUrJy_eT6p20",
        "colab_type": "code",
        "colab": {
          "base_uri": "https://localhost:8080/",
          "height": 258
        },
        "outputId": "5edcf0ac-7d4d-4b55-a53e-c4a8b856f0ca"
      },
      "source": [
        "train_data.head()"
      ],
      "execution_count": null,
      "outputs": [
        {
          "output_type": "execute_result",
          "data": {
            "text/html": [
              "<div>\n",
              "<style scoped>\n",
              "    .dataframe tbody tr th:only-of-type {\n",
              "        vertical-align: middle;\n",
              "    }\n",
              "\n",
              "    .dataframe tbody tr th {\n",
              "        vertical-align: top;\n",
              "    }\n",
              "\n",
              "    .dataframe thead th {\n",
              "        text-align: right;\n",
              "    }\n",
              "</style>\n",
              "<table border=\"1\" class=\"dataframe\">\n",
              "  <thead>\n",
              "    <tr style=\"text-align: right;\">\n",
              "      <th></th>\n",
              "      <th>Employee_ID</th>\n",
              "      <th>Gender</th>\n",
              "      <th>Age</th>\n",
              "      <th>Education_Level</th>\n",
              "      <th>Relationship_Status</th>\n",
              "      <th>Hometown</th>\n",
              "      <th>Unit</th>\n",
              "      <th>Decision_skill_possess</th>\n",
              "      <th>Time_of_service</th>\n",
              "      <th>Time_since_promotion</th>\n",
              "      <th>growth_rate</th>\n",
              "      <th>Travel_Rate</th>\n",
              "      <th>Post_Level</th>\n",
              "      <th>Pay_Scale</th>\n",
              "      <th>Compensation_and_Benefits</th>\n",
              "      <th>Work_Life_balance</th>\n",
              "      <th>VAR1</th>\n",
              "      <th>VAR2</th>\n",
              "      <th>VAR3</th>\n",
              "      <th>VAR4</th>\n",
              "      <th>VAR5</th>\n",
              "      <th>VAR6</th>\n",
              "      <th>VAR7</th>\n",
              "      <th>Attrition_rate</th>\n",
              "    </tr>\n",
              "  </thead>\n",
              "  <tbody>\n",
              "    <tr>\n",
              "      <th>0</th>\n",
              "      <td>EID_23371</td>\n",
              "      <td>F</td>\n",
              "      <td>42.0</td>\n",
              "      <td>4</td>\n",
              "      <td>Married</td>\n",
              "      <td>Franklin</td>\n",
              "      <td>IT</td>\n",
              "      <td>Conceptual</td>\n",
              "      <td>4.0</td>\n",
              "      <td>4</td>\n",
              "      <td>33</td>\n",
              "      <td>1</td>\n",
              "      <td>1</td>\n",
              "      <td>7.0</td>\n",
              "      <td>type2</td>\n",
              "      <td>3.0</td>\n",
              "      <td>4</td>\n",
              "      <td>0.7516</td>\n",
              "      <td>1.8688</td>\n",
              "      <td>2.0</td>\n",
              "      <td>4</td>\n",
              "      <td>5</td>\n",
              "      <td>3</td>\n",
              "      <td>0.1841</td>\n",
              "    </tr>\n",
              "    <tr>\n",
              "      <th>1</th>\n",
              "      <td>EID_18000</td>\n",
              "      <td>M</td>\n",
              "      <td>24.0</td>\n",
              "      <td>3</td>\n",
              "      <td>Single</td>\n",
              "      <td>Springfield</td>\n",
              "      <td>Logistics</td>\n",
              "      <td>Analytical</td>\n",
              "      <td>5.0</td>\n",
              "      <td>4</td>\n",
              "      <td>36</td>\n",
              "      <td>0</td>\n",
              "      <td>3</td>\n",
              "      <td>6.0</td>\n",
              "      <td>type2</td>\n",
              "      <td>4.0</td>\n",
              "      <td>3</td>\n",
              "      <td>-0.9612</td>\n",
              "      <td>-0.4537</td>\n",
              "      <td>2.0</td>\n",
              "      <td>3</td>\n",
              "      <td>5</td>\n",
              "      <td>3</td>\n",
              "      <td>0.0670</td>\n",
              "    </tr>\n",
              "    <tr>\n",
              "      <th>2</th>\n",
              "      <td>EID_3891</td>\n",
              "      <td>F</td>\n",
              "      <td>58.0</td>\n",
              "      <td>3</td>\n",
              "      <td>Married</td>\n",
              "      <td>Clinton</td>\n",
              "      <td>Quality</td>\n",
              "      <td>Conceptual</td>\n",
              "      <td>27.0</td>\n",
              "      <td>3</td>\n",
              "      <td>51</td>\n",
              "      <td>0</td>\n",
              "      <td>2</td>\n",
              "      <td>8.0</td>\n",
              "      <td>type2</td>\n",
              "      <td>1.0</td>\n",
              "      <td>4</td>\n",
              "      <td>-0.9612</td>\n",
              "      <td>-0.4537</td>\n",
              "      <td>3.0</td>\n",
              "      <td>3</td>\n",
              "      <td>8</td>\n",
              "      <td>3</td>\n",
              "      <td>0.0851</td>\n",
              "    </tr>\n",
              "    <tr>\n",
              "      <th>3</th>\n",
              "      <td>EID_17492</td>\n",
              "      <td>F</td>\n",
              "      <td>26.0</td>\n",
              "      <td>3</td>\n",
              "      <td>Single</td>\n",
              "      <td>Lebanon</td>\n",
              "      <td>Human Resource Management</td>\n",
              "      <td>Behavioral</td>\n",
              "      <td>4.0</td>\n",
              "      <td>3</td>\n",
              "      <td>56</td>\n",
              "      <td>1</td>\n",
              "      <td>3</td>\n",
              "      <td>8.0</td>\n",
              "      <td>type2</td>\n",
              "      <td>1.0</td>\n",
              "      <td>3</td>\n",
              "      <td>-1.8176</td>\n",
              "      <td>-0.4537</td>\n",
              "      <td>NaN</td>\n",
              "      <td>3</td>\n",
              "      <td>7</td>\n",
              "      <td>3</td>\n",
              "      <td>0.0668</td>\n",
              "    </tr>\n",
              "    <tr>\n",
              "      <th>4</th>\n",
              "      <td>EID_22534</td>\n",
              "      <td>F</td>\n",
              "      <td>31.0</td>\n",
              "      <td>1</td>\n",
              "      <td>Married</td>\n",
              "      <td>Springfield</td>\n",
              "      <td>Logistics</td>\n",
              "      <td>Conceptual</td>\n",
              "      <td>5.0</td>\n",
              "      <td>4</td>\n",
              "      <td>62</td>\n",
              "      <td>1</td>\n",
              "      <td>3</td>\n",
              "      <td>2.0</td>\n",
              "      <td>type3</td>\n",
              "      <td>3.0</td>\n",
              "      <td>1</td>\n",
              "      <td>0.7516</td>\n",
              "      <td>-0.4537</td>\n",
              "      <td>2.0</td>\n",
              "      <td>2</td>\n",
              "      <td>8</td>\n",
              "      <td>2</td>\n",
              "      <td>0.1827</td>\n",
              "    </tr>\n",
              "  </tbody>\n",
              "</table>\n",
              "</div>"
            ],
            "text/plain": [
              "  Employee_ID Gender   Age  Education_Level  ... VAR5 VAR6 VAR7 Attrition_rate\n",
              "0   EID_23371      F  42.0                4  ...    4    5    3         0.1841\n",
              "1   EID_18000      M  24.0                3  ...    3    5    3         0.0670\n",
              "2    EID_3891      F  58.0                3  ...    3    8    3         0.0851\n",
              "3   EID_17492      F  26.0                3  ...    3    7    3         0.0668\n",
              "4   EID_22534      F  31.0                1  ...    2    8    2         0.1827\n",
              "\n",
              "[5 rows x 24 columns]"
            ]
          },
          "metadata": {
            "tags": []
          },
          "execution_count": 8
        }
      ]
    },
    {
      "cell_type": "code",
      "metadata": {
        "id": "MAou9ur76p24",
        "colab_type": "code",
        "colab": {
          "base_uri": "https://localhost:8080/",
          "height": 34
        },
        "outputId": "2951ee1f-46c8-4a50-cf16-13274cc2c91a"
      },
      "source": [
        "### Check for NULL values ###\n",
        "train_data.isnull().values.any()"
      ],
      "execution_count": null,
      "outputs": [
        {
          "output_type": "execute_result",
          "data": {
            "text/plain": [
              "True"
            ]
          },
          "metadata": {
            "tags": []
          },
          "execution_count": 9
        }
      ]
    },
    {
      "cell_type": "code",
      "metadata": {
        "id": "TUNzxm_r6p27",
        "colab_type": "code",
        "colab": {
          "base_uri": "https://localhost:8080/",
          "height": 442
        },
        "outputId": "8da0189a-25f5-417e-ad03-a067b7304354"
      },
      "source": [
        "### Column/Feature wise total NULL values ###\n",
        "train_data.isnull().sum()"
      ],
      "execution_count": null,
      "outputs": [
        {
          "output_type": "execute_result",
          "data": {
            "text/plain": [
              "Employee_ID                    0\n",
              "Gender                         0\n",
              "Age                          412\n",
              "Education_Level                0\n",
              "Relationship_Status            0\n",
              "Hometown                       0\n",
              "Unit                           0\n",
              "Decision_skill_possess         0\n",
              "Time_of_service              144\n",
              "Time_since_promotion           0\n",
              "growth_rate                    0\n",
              "Travel_Rate                    0\n",
              "Post_Level                     0\n",
              "Pay_Scale                      9\n",
              "Compensation_and_Benefits      0\n",
              "Work_Life_balance             11\n",
              "VAR1                           0\n",
              "VAR2                         577\n",
              "VAR3                           0\n",
              "VAR4                         656\n",
              "VAR5                           0\n",
              "VAR6                           0\n",
              "VAR7                           0\n",
              "Attrition_rate                 0\n",
              "dtype: int64"
            ]
          },
          "metadata": {
            "tags": []
          },
          "execution_count": 10
        }
      ]
    },
    {
      "cell_type": "code",
      "metadata": {
        "scrolled": true,
        "id": "Ix-OzyvF6p2_",
        "colab_type": "code",
        "colab": {
          "base_uri": "https://localhost:8080/",
          "height": 317
        },
        "outputId": "8ac4144f-2597-4510-80ad-4eba8b065f11"
      },
      "source": [
        "desc = train_data.describe()\n",
        "\n",
        "desc"
      ],
      "execution_count": null,
      "outputs": [
        {
          "output_type": "execute_result",
          "data": {
            "text/html": [
              "<div>\n",
              "<style scoped>\n",
              "    .dataframe tbody tr th:only-of-type {\n",
              "        vertical-align: middle;\n",
              "    }\n",
              "\n",
              "    .dataframe tbody tr th {\n",
              "        vertical-align: top;\n",
              "    }\n",
              "\n",
              "    .dataframe thead th {\n",
              "        text-align: right;\n",
              "    }\n",
              "</style>\n",
              "<table border=\"1\" class=\"dataframe\">\n",
              "  <thead>\n",
              "    <tr style=\"text-align: right;\">\n",
              "      <th></th>\n",
              "      <th>Age</th>\n",
              "      <th>Education_Level</th>\n",
              "      <th>Time_of_service</th>\n",
              "      <th>Time_since_promotion</th>\n",
              "      <th>growth_rate</th>\n",
              "      <th>Travel_Rate</th>\n",
              "      <th>Post_Level</th>\n",
              "      <th>Pay_Scale</th>\n",
              "      <th>Work_Life_balance</th>\n",
              "      <th>VAR1</th>\n",
              "      <th>VAR2</th>\n",
              "      <th>VAR3</th>\n",
              "      <th>VAR4</th>\n",
              "      <th>VAR5</th>\n",
              "      <th>VAR6</th>\n",
              "      <th>VAR7</th>\n",
              "      <th>Attrition_rate</th>\n",
              "    </tr>\n",
              "  </thead>\n",
              "  <tbody>\n",
              "    <tr>\n",
              "      <th>count</th>\n",
              "      <td>6588.000000</td>\n",
              "      <td>7000.000000</td>\n",
              "      <td>6856.000000</td>\n",
              "      <td>7000.000000</td>\n",
              "      <td>7000.000000</td>\n",
              "      <td>7000.000000</td>\n",
              "      <td>7000.000000</td>\n",
              "      <td>6991.000000</td>\n",
              "      <td>6989.000000</td>\n",
              "      <td>7000.000000</td>\n",
              "      <td>6423.000000</td>\n",
              "      <td>7000.000000</td>\n",
              "      <td>6344.000000</td>\n",
              "      <td>7000.000000</td>\n",
              "      <td>7000.000000</td>\n",
              "      <td>7000.000000</td>\n",
              "      <td>7000.000000</td>\n",
              "    </tr>\n",
              "    <tr>\n",
              "      <th>mean</th>\n",
              "      <td>39.622799</td>\n",
              "      <td>3.187857</td>\n",
              "      <td>13.385064</td>\n",
              "      <td>2.367143</td>\n",
              "      <td>47.064286</td>\n",
              "      <td>0.817857</td>\n",
              "      <td>2.798000</td>\n",
              "      <td>6.006294</td>\n",
              "      <td>2.387895</td>\n",
              "      <td>3.098571</td>\n",
              "      <td>-0.008126</td>\n",
              "      <td>-0.013606</td>\n",
              "      <td>1.891078</td>\n",
              "      <td>2.834143</td>\n",
              "      <td>7.101286</td>\n",
              "      <td>3.257000</td>\n",
              "      <td>0.189376</td>\n",
              "    </tr>\n",
              "    <tr>\n",
              "      <th>std</th>\n",
              "      <td>13.606920</td>\n",
              "      <td>1.065102</td>\n",
              "      <td>10.364188</td>\n",
              "      <td>1.149395</td>\n",
              "      <td>15.761406</td>\n",
              "      <td>0.648205</td>\n",
              "      <td>1.163721</td>\n",
              "      <td>2.058435</td>\n",
              "      <td>1.122786</td>\n",
              "      <td>0.836377</td>\n",
              "      <td>0.989850</td>\n",
              "      <td>0.986933</td>\n",
              "      <td>0.529403</td>\n",
              "      <td>0.938945</td>\n",
              "      <td>1.164262</td>\n",
              "      <td>0.925319</td>\n",
              "      <td>0.185753</td>\n",
              "    </tr>\n",
              "    <tr>\n",
              "      <th>min</th>\n",
              "      <td>19.000000</td>\n",
              "      <td>1.000000</td>\n",
              "      <td>0.000000</td>\n",
              "      <td>0.000000</td>\n",
              "      <td>20.000000</td>\n",
              "      <td>0.000000</td>\n",
              "      <td>1.000000</td>\n",
              "      <td>1.000000</td>\n",
              "      <td>1.000000</td>\n",
              "      <td>1.000000</td>\n",
              "      <td>-1.817600</td>\n",
              "      <td>-2.776200</td>\n",
              "      <td>1.000000</td>\n",
              "      <td>1.000000</td>\n",
              "      <td>5.000000</td>\n",
              "      <td>1.000000</td>\n",
              "      <td>0.000000</td>\n",
              "    </tr>\n",
              "    <tr>\n",
              "      <th>25%</th>\n",
              "      <td>27.000000</td>\n",
              "      <td>3.000000</td>\n",
              "      <td>5.000000</td>\n",
              "      <td>1.000000</td>\n",
              "      <td>33.000000</td>\n",
              "      <td>0.000000</td>\n",
              "      <td>2.000000</td>\n",
              "      <td>5.000000</td>\n",
              "      <td>1.000000</td>\n",
              "      <td>3.000000</td>\n",
              "      <td>-0.961200</td>\n",
              "      <td>-0.453700</td>\n",
              "      <td>2.000000</td>\n",
              "      <td>2.000000</td>\n",
              "      <td>6.000000</td>\n",
              "      <td>3.000000</td>\n",
              "      <td>0.070400</td>\n",
              "    </tr>\n",
              "    <tr>\n",
              "      <th>50%</th>\n",
              "      <td>37.000000</td>\n",
              "      <td>3.000000</td>\n",
              "      <td>10.000000</td>\n",
              "      <td>2.000000</td>\n",
              "      <td>47.000000</td>\n",
              "      <td>1.000000</td>\n",
              "      <td>3.000000</td>\n",
              "      <td>6.000000</td>\n",
              "      <td>2.000000</td>\n",
              "      <td>3.000000</td>\n",
              "      <td>-0.104800</td>\n",
              "      <td>-0.453700</td>\n",
              "      <td>2.000000</td>\n",
              "      <td>3.000000</td>\n",
              "      <td>7.000000</td>\n",
              "      <td>3.000000</td>\n",
              "      <td>0.142650</td>\n",
              "    </tr>\n",
              "    <tr>\n",
              "      <th>75%</th>\n",
              "      <td>52.000000</td>\n",
              "      <td>4.000000</td>\n",
              "      <td>21.000000</td>\n",
              "      <td>3.000000</td>\n",
              "      <td>61.000000</td>\n",
              "      <td>1.000000</td>\n",
              "      <td>3.000000</td>\n",
              "      <td>8.000000</td>\n",
              "      <td>3.000000</td>\n",
              "      <td>3.000000</td>\n",
              "      <td>0.751600</td>\n",
              "      <td>0.707500</td>\n",
              "      <td>2.000000</td>\n",
              "      <td>3.000000</td>\n",
              "      <td>8.000000</td>\n",
              "      <td>4.000000</td>\n",
              "      <td>0.235000</td>\n",
              "    </tr>\n",
              "    <tr>\n",
              "      <th>max</th>\n",
              "      <td>65.000000</td>\n",
              "      <td>5.000000</td>\n",
              "      <td>43.000000</td>\n",
              "      <td>4.000000</td>\n",
              "      <td>74.000000</td>\n",
              "      <td>2.000000</td>\n",
              "      <td>5.000000</td>\n",
              "      <td>10.000000</td>\n",
              "      <td>5.000000</td>\n",
              "      <td>5.000000</td>\n",
              "      <td>1.608100</td>\n",
              "      <td>1.868800</td>\n",
              "      <td>3.000000</td>\n",
              "      <td>5.000000</td>\n",
              "      <td>9.000000</td>\n",
              "      <td>5.000000</td>\n",
              "      <td>0.995900</td>\n",
              "    </tr>\n",
              "  </tbody>\n",
              "</table>\n",
              "</div>"
            ],
            "text/plain": [
              "               Age  Education_Level  ...         VAR7  Attrition_rate\n",
              "count  6588.000000      7000.000000  ...  7000.000000     7000.000000\n",
              "mean     39.622799         3.187857  ...     3.257000        0.189376\n",
              "std      13.606920         1.065102  ...     0.925319        0.185753\n",
              "min      19.000000         1.000000  ...     1.000000        0.000000\n",
              "25%      27.000000         3.000000  ...     3.000000        0.070400\n",
              "50%      37.000000         3.000000  ...     3.000000        0.142650\n",
              "75%      52.000000         4.000000  ...     4.000000        0.235000\n",
              "max      65.000000         5.000000  ...     5.000000        0.995900\n",
              "\n",
              "[8 rows x 17 columns]"
            ]
          },
          "metadata": {
            "tags": []
          },
          "execution_count": 11
        }
      ]
    },
    {
      "cell_type": "code",
      "metadata": {
        "id": "yyBmdpLl6p3C",
        "colab_type": "code",
        "colab": {}
      },
      "source": [
        "### Read the test set (for prediction and submission) ###\n",
        "test_data = pd.read_csv(\"Test.csv\")"
      ],
      "execution_count": null,
      "outputs": []
    },
    {
      "cell_type": "code",
      "metadata": {
        "id": "Is42JKB96p3E",
        "colab_type": "code",
        "colab": {
          "base_uri": "https://localhost:8080/",
          "height": 34
        },
        "outputId": "9fc5e673-fee1-4868-85e7-4bd642e17b1f"
      },
      "source": [
        "test_data.shape"
      ],
      "execution_count": null,
      "outputs": [
        {
          "output_type": "execute_result",
          "data": {
            "text/plain": [
              "(3000, 23)"
            ]
          },
          "metadata": {
            "tags": []
          },
          "execution_count": 13
        }
      ]
    },
    {
      "cell_type": "code",
      "metadata": {
        "id": "xRF_23OX6p3I",
        "colab_type": "code",
        "colab": {
          "base_uri": "https://localhost:8080/",
          "height": 224
        },
        "outputId": "a7456e9c-84f2-48e0-f066-dfe231e8a10f"
      },
      "source": [
        "test_data.head()"
      ],
      "execution_count": null,
      "outputs": [
        {
          "output_type": "execute_result",
          "data": {
            "text/html": [
              "<div>\n",
              "<style scoped>\n",
              "    .dataframe tbody tr th:only-of-type {\n",
              "        vertical-align: middle;\n",
              "    }\n",
              "\n",
              "    .dataframe tbody tr th {\n",
              "        vertical-align: top;\n",
              "    }\n",
              "\n",
              "    .dataframe thead th {\n",
              "        text-align: right;\n",
              "    }\n",
              "</style>\n",
              "<table border=\"1\" class=\"dataframe\">\n",
              "  <thead>\n",
              "    <tr style=\"text-align: right;\">\n",
              "      <th></th>\n",
              "      <th>Employee_ID</th>\n",
              "      <th>Gender</th>\n",
              "      <th>Age</th>\n",
              "      <th>Education_Level</th>\n",
              "      <th>Relationship_Status</th>\n",
              "      <th>Hometown</th>\n",
              "      <th>Unit</th>\n",
              "      <th>Decision_skill_possess</th>\n",
              "      <th>Time_of_service</th>\n",
              "      <th>Time_since_promotion</th>\n",
              "      <th>growth_rate</th>\n",
              "      <th>Travel_Rate</th>\n",
              "      <th>Post_Level</th>\n",
              "      <th>Pay_Scale</th>\n",
              "      <th>Compensation_and_Benefits</th>\n",
              "      <th>Work_Life_balance</th>\n",
              "      <th>VAR1</th>\n",
              "      <th>VAR2</th>\n",
              "      <th>VAR3</th>\n",
              "      <th>VAR4</th>\n",
              "      <th>VAR5</th>\n",
              "      <th>VAR6</th>\n",
              "      <th>VAR7</th>\n",
              "    </tr>\n",
              "  </thead>\n",
              "  <tbody>\n",
              "    <tr>\n",
              "      <th>0</th>\n",
              "      <td>EID_22713</td>\n",
              "      <td>F</td>\n",
              "      <td>32.0</td>\n",
              "      <td>5</td>\n",
              "      <td>Single</td>\n",
              "      <td>Springfield</td>\n",
              "      <td>R&amp;D</td>\n",
              "      <td>Conceptual</td>\n",
              "      <td>7.0</td>\n",
              "      <td>4</td>\n",
              "      <td>30</td>\n",
              "      <td>1</td>\n",
              "      <td>5</td>\n",
              "      <td>4.0</td>\n",
              "      <td>type2</td>\n",
              "      <td>1.0</td>\n",
              "      <td>3</td>\n",
              "      <td>-0.9612</td>\n",
              "      <td>-0.4537</td>\n",
              "      <td>2.0</td>\n",
              "      <td>1</td>\n",
              "      <td>8</td>\n",
              "      <td>4</td>\n",
              "    </tr>\n",
              "    <tr>\n",
              "      <th>1</th>\n",
              "      <td>EID_9658</td>\n",
              "      <td>M</td>\n",
              "      <td>65.0</td>\n",
              "      <td>2</td>\n",
              "      <td>Single</td>\n",
              "      <td>Lebanon</td>\n",
              "      <td>IT</td>\n",
              "      <td>Directive</td>\n",
              "      <td>41.0</td>\n",
              "      <td>2</td>\n",
              "      <td>72</td>\n",
              "      <td>1</td>\n",
              "      <td>1</td>\n",
              "      <td>1.0</td>\n",
              "      <td>type2</td>\n",
              "      <td>1.0</td>\n",
              "      <td>4</td>\n",
              "      <td>-0.9612</td>\n",
              "      <td>0.7075</td>\n",
              "      <td>1.0</td>\n",
              "      <td>2</td>\n",
              "      <td>8</td>\n",
              "      <td>2</td>\n",
              "    </tr>\n",
              "    <tr>\n",
              "      <th>2</th>\n",
              "      <td>EID_22203</td>\n",
              "      <td>M</td>\n",
              "      <td>52.0</td>\n",
              "      <td>3</td>\n",
              "      <td>Married</td>\n",
              "      <td>Springfield</td>\n",
              "      <td>Sales</td>\n",
              "      <td>Directive</td>\n",
              "      <td>21.0</td>\n",
              "      <td>3</td>\n",
              "      <td>25</td>\n",
              "      <td>0</td>\n",
              "      <td>1</td>\n",
              "      <td>8.0</td>\n",
              "      <td>type3</td>\n",
              "      <td>1.0</td>\n",
              "      <td>4</td>\n",
              "      <td>-0.1048</td>\n",
              "      <td>0.7075</td>\n",
              "      <td>2.0</td>\n",
              "      <td>1</td>\n",
              "      <td>9</td>\n",
              "      <td>3</td>\n",
              "    </tr>\n",
              "    <tr>\n",
              "      <th>3</th>\n",
              "      <td>EID_7652</td>\n",
              "      <td>M</td>\n",
              "      <td>50.0</td>\n",
              "      <td>5</td>\n",
              "      <td>Single</td>\n",
              "      <td>Washington</td>\n",
              "      <td>Marketing</td>\n",
              "      <td>Analytical</td>\n",
              "      <td>11.0</td>\n",
              "      <td>4</td>\n",
              "      <td>28</td>\n",
              "      <td>1</td>\n",
              "      <td>1</td>\n",
              "      <td>2.0</td>\n",
              "      <td>type0</td>\n",
              "      <td>4.0</td>\n",
              "      <td>3</td>\n",
              "      <td>-0.1048</td>\n",
              "      <td>0.7075</td>\n",
              "      <td>2.0</td>\n",
              "      <td>2</td>\n",
              "      <td>8</td>\n",
              "      <td>3</td>\n",
              "    </tr>\n",
              "    <tr>\n",
              "      <th>4</th>\n",
              "      <td>EID_6516</td>\n",
              "      <td>F</td>\n",
              "      <td>44.0</td>\n",
              "      <td>3</td>\n",
              "      <td>Married</td>\n",
              "      <td>Franklin</td>\n",
              "      <td>R&amp;D</td>\n",
              "      <td>Conceptual</td>\n",
              "      <td>12.0</td>\n",
              "      <td>4</td>\n",
              "      <td>47</td>\n",
              "      <td>1</td>\n",
              "      <td>3</td>\n",
              "      <td>2.0</td>\n",
              "      <td>type2</td>\n",
              "      <td>4.0</td>\n",
              "      <td>4</td>\n",
              "      <td>1.6081</td>\n",
              "      <td>0.7075</td>\n",
              "      <td>2.0</td>\n",
              "      <td>2</td>\n",
              "      <td>7</td>\n",
              "      <td>4</td>\n",
              "    </tr>\n",
              "  </tbody>\n",
              "</table>\n",
              "</div>"
            ],
            "text/plain": [
              "  Employee_ID Gender   Age  Education_Level  ... VAR4 VAR5 VAR6 VAR7\n",
              "0   EID_22713      F  32.0                5  ...  2.0    1    8    4\n",
              "1    EID_9658      M  65.0                2  ...  1.0    2    8    2\n",
              "2   EID_22203      M  52.0                3  ...  2.0    1    9    3\n",
              "3    EID_7652      M  50.0                5  ...  2.0    2    8    3\n",
              "4    EID_6516      F  44.0                3  ...  2.0    2    7    4\n",
              "\n",
              "[5 rows x 23 columns]"
            ]
          },
          "metadata": {
            "tags": []
          },
          "execution_count": 14
        }
      ]
    },
    {
      "cell_type": "code",
      "metadata": {
        "id": "rLcHykhs6p3L",
        "colab_type": "code",
        "colab": {
          "base_uri": "https://localhost:8080/",
          "height": 34
        },
        "outputId": "d1170724-32b5-411d-aaa7-aa7533d271d4"
      },
      "source": [
        "test_data.isnull().values.any()"
      ],
      "execution_count": null,
      "outputs": [
        {
          "output_type": "execute_result",
          "data": {
            "text/plain": [
              "True"
            ]
          },
          "metadata": {
            "tags": []
          },
          "execution_count": 15
        }
      ]
    },
    {
      "cell_type": "code",
      "metadata": {
        "id": "wejfWg0W6p3N",
        "colab_type": "code",
        "colab": {
          "base_uri": "https://localhost:8080/",
          "height": 425
        },
        "outputId": "e1bc0dd2-e676-4b72-d9f9-9999a0b2be07"
      },
      "source": [
        "### Column/Feature wise missing vaues in the prediction set ###\n",
        "test_data.isnull().sum()"
      ],
      "execution_count": null,
      "outputs": [
        {
          "output_type": "execute_result",
          "data": {
            "text/plain": [
              "Employee_ID                    0\n",
              "Gender                         0\n",
              "Age                          161\n",
              "Education_Level                0\n",
              "Relationship_Status            0\n",
              "Hometown                       0\n",
              "Unit                           0\n",
              "Decision_skill_possess         0\n",
              "Time_of_service               52\n",
              "Time_since_promotion           0\n",
              "growth_rate                    0\n",
              "Travel_Rate                    0\n",
              "Post_Level                     0\n",
              "Pay_Scale                      3\n",
              "Compensation_and_Benefits      0\n",
              "Work_Life_balance              5\n",
              "VAR1                           0\n",
              "VAR2                         217\n",
              "VAR3                           0\n",
              "VAR4                         298\n",
              "VAR5                           0\n",
              "VAR6                           0\n",
              "VAR7                           0\n",
              "dtype: int64"
            ]
          },
          "metadata": {
            "tags": []
          },
          "execution_count": 16
        }
      ]
    },
    {
      "cell_type": "code",
      "metadata": {
        "id": "iXe48BaQ6p3Q",
        "colab_type": "code",
        "colab": {}
      },
      "source": [
        "### Lets combine these two dataframes for summary stats and imputing the missing values ###\n",
        "combined_data = pd.concat([train_data,test_data])"
      ],
      "execution_count": null,
      "outputs": []
    },
    {
      "cell_type": "code",
      "metadata": {
        "id": "T2gBABuG6p3T",
        "colab_type": "code",
        "colab": {
          "base_uri": "https://localhost:8080/",
          "height": 34
        },
        "outputId": "195c93dd-37b4-49b7-dd71-6b396fad245d"
      },
      "source": [
        "combined_data.shape"
      ],
      "execution_count": null,
      "outputs": [
        {
          "output_type": "execute_result",
          "data": {
            "text/plain": [
              "(10000, 24)"
            ]
          },
          "metadata": {
            "tags": []
          },
          "execution_count": 18
        }
      ]
    },
    {
      "cell_type": "code",
      "metadata": {
        "id": "c4kDQiGG6p3V",
        "colab_type": "code",
        "colab": {
          "base_uri": "https://localhost:8080/",
          "height": 224
        },
        "outputId": "84f9955e-77e7-4797-b3e4-d36c57a94682"
      },
      "source": [
        "combined_data.tail()"
      ],
      "execution_count": null,
      "outputs": [
        {
          "output_type": "execute_result",
          "data": {
            "text/html": [
              "<div>\n",
              "<style scoped>\n",
              "    .dataframe tbody tr th:only-of-type {\n",
              "        vertical-align: middle;\n",
              "    }\n",
              "\n",
              "    .dataframe tbody tr th {\n",
              "        vertical-align: top;\n",
              "    }\n",
              "\n",
              "    .dataframe thead th {\n",
              "        text-align: right;\n",
              "    }\n",
              "</style>\n",
              "<table border=\"1\" class=\"dataframe\">\n",
              "  <thead>\n",
              "    <tr style=\"text-align: right;\">\n",
              "      <th></th>\n",
              "      <th>Employee_ID</th>\n",
              "      <th>Gender</th>\n",
              "      <th>Age</th>\n",
              "      <th>Education_Level</th>\n",
              "      <th>Relationship_Status</th>\n",
              "      <th>Hometown</th>\n",
              "      <th>Unit</th>\n",
              "      <th>Decision_skill_possess</th>\n",
              "      <th>Time_of_service</th>\n",
              "      <th>Time_since_promotion</th>\n",
              "      <th>growth_rate</th>\n",
              "      <th>Travel_Rate</th>\n",
              "      <th>Post_Level</th>\n",
              "      <th>Pay_Scale</th>\n",
              "      <th>Compensation_and_Benefits</th>\n",
              "      <th>Work_Life_balance</th>\n",
              "      <th>VAR1</th>\n",
              "      <th>VAR2</th>\n",
              "      <th>VAR3</th>\n",
              "      <th>VAR4</th>\n",
              "      <th>VAR5</th>\n",
              "      <th>VAR6</th>\n",
              "      <th>VAR7</th>\n",
              "      <th>Attrition_rate</th>\n",
              "    </tr>\n",
              "  </thead>\n",
              "  <tbody>\n",
              "    <tr>\n",
              "      <th>2995</th>\n",
              "      <td>EID_22547</td>\n",
              "      <td>F</td>\n",
              "      <td>32.0</td>\n",
              "      <td>3</td>\n",
              "      <td>Single</td>\n",
              "      <td>Franklin</td>\n",
              "      <td>Sales</td>\n",
              "      <td>Directive</td>\n",
              "      <td>3.0</td>\n",
              "      <td>3</td>\n",
              "      <td>38</td>\n",
              "      <td>1</td>\n",
              "      <td>3</td>\n",
              "      <td>6.0</td>\n",
              "      <td>type2</td>\n",
              "      <td>2.0</td>\n",
              "      <td>1</td>\n",
              "      <td>-0.1048</td>\n",
              "      <td>0.7075</td>\n",
              "      <td>1.0</td>\n",
              "      <td>4</td>\n",
              "      <td>7</td>\n",
              "      <td>4</td>\n",
              "      <td>NaN</td>\n",
              "    </tr>\n",
              "    <tr>\n",
              "      <th>2996</th>\n",
              "      <td>EID_10066</td>\n",
              "      <td>F</td>\n",
              "      <td>NaN</td>\n",
              "      <td>2</td>\n",
              "      <td>Single</td>\n",
              "      <td>Franklin</td>\n",
              "      <td>Marketing</td>\n",
              "      <td>Conceptual</td>\n",
              "      <td>10.0</td>\n",
              "      <td>2</td>\n",
              "      <td>57</td>\n",
              "      <td>1</td>\n",
              "      <td>4</td>\n",
              "      <td>9.0</td>\n",
              "      <td>type2</td>\n",
              "      <td>1.0</td>\n",
              "      <td>3</td>\n",
              "      <td>0.7516</td>\n",
              "      <td>0.7075</td>\n",
              "      <td>3.0</td>\n",
              "      <td>4</td>\n",
              "      <td>8</td>\n",
              "      <td>3</td>\n",
              "      <td>NaN</td>\n",
              "    </tr>\n",
              "    <tr>\n",
              "      <th>2997</th>\n",
              "      <td>EID_7126</td>\n",
              "      <td>F</td>\n",
              "      <td>60.0</td>\n",
              "      <td>4</td>\n",
              "      <td>Single</td>\n",
              "      <td>Lebanon</td>\n",
              "      <td>Logistics</td>\n",
              "      <td>Analytical</td>\n",
              "      <td>35.0</td>\n",
              "      <td>1</td>\n",
              "      <td>69</td>\n",
              "      <td>0</td>\n",
              "      <td>2</td>\n",
              "      <td>9.0</td>\n",
              "      <td>type3</td>\n",
              "      <td>3.0</td>\n",
              "      <td>3</td>\n",
              "      <td>-1.8176</td>\n",
              "      <td>-0.4537</td>\n",
              "      <td>NaN</td>\n",
              "      <td>4</td>\n",
              "      <td>8</td>\n",
              "      <td>4</td>\n",
              "      <td>NaN</td>\n",
              "    </tr>\n",
              "    <tr>\n",
              "      <th>2998</th>\n",
              "      <td>EID_4929</td>\n",
              "      <td>F</td>\n",
              "      <td>51.0</td>\n",
              "      <td>1</td>\n",
              "      <td>Married</td>\n",
              "      <td>Springfield</td>\n",
              "      <td>IT</td>\n",
              "      <td>Behavioral</td>\n",
              "      <td>23.0</td>\n",
              "      <td>1</td>\n",
              "      <td>30</td>\n",
              "      <td>0</td>\n",
              "      <td>2</td>\n",
              "      <td>6.0</td>\n",
              "      <td>type3</td>\n",
              "      <td>1.0</td>\n",
              "      <td>5</td>\n",
              "      <td>0.7516</td>\n",
              "      <td>-0.4537</td>\n",
              "      <td>2.0</td>\n",
              "      <td>3</td>\n",
              "      <td>9</td>\n",
              "      <td>2</td>\n",
              "      <td>NaN</td>\n",
              "    </tr>\n",
              "    <tr>\n",
              "      <th>2999</th>\n",
              "      <td>EID_24750</td>\n",
              "      <td>F</td>\n",
              "      <td>45.0</td>\n",
              "      <td>1</td>\n",
              "      <td>Single</td>\n",
              "      <td>Franklin</td>\n",
              "      <td>Sales</td>\n",
              "      <td>Directive</td>\n",
              "      <td>12.0</td>\n",
              "      <td>4</td>\n",
              "      <td>70</td>\n",
              "      <td>1</td>\n",
              "      <td>2</td>\n",
              "      <td>8.0</td>\n",
              "      <td>type4</td>\n",
              "      <td>4.0</td>\n",
              "      <td>3</td>\n",
              "      <td>0.7516</td>\n",
              "      <td>-0.4537</td>\n",
              "      <td>2.0</td>\n",
              "      <td>2</td>\n",
              "      <td>8</td>\n",
              "      <td>5</td>\n",
              "      <td>NaN</td>\n",
              "    </tr>\n",
              "  </tbody>\n",
              "</table>\n",
              "</div>"
            ],
            "text/plain": [
              "     Employee_ID Gender   Age  ...  VAR6 VAR7 Attrition_rate\n",
              "2995   EID_22547      F  32.0  ...     7    4            NaN\n",
              "2996   EID_10066      F   NaN  ...     8    3            NaN\n",
              "2997    EID_7126      F  60.0  ...     8    4            NaN\n",
              "2998    EID_4929      F  51.0  ...     9    2            NaN\n",
              "2999   EID_24750      F  45.0  ...     8    5            NaN\n",
              "\n",
              "[5 rows x 24 columns]"
            ]
          },
          "metadata": {
            "tags": []
          },
          "execution_count": 19
        }
      ]
    },
    {
      "cell_type": "code",
      "metadata": {
        "id": "66DjXwR86p3b",
        "colab_type": "code",
        "colab": {
          "base_uri": "https://localhost:8080/",
          "height": 442
        },
        "outputId": "23b14f5f-df90-4c7c-e0aa-9044455a5f65"
      },
      "source": [
        "combined_data.isnull().sum()"
      ],
      "execution_count": null,
      "outputs": [
        {
          "output_type": "execute_result",
          "data": {
            "text/plain": [
              "Employee_ID                     0\n",
              "Gender                          0\n",
              "Age                           573\n",
              "Education_Level                 0\n",
              "Relationship_Status             0\n",
              "Hometown                        0\n",
              "Unit                            0\n",
              "Decision_skill_possess          0\n",
              "Time_of_service               196\n",
              "Time_since_promotion            0\n",
              "growth_rate                     0\n",
              "Travel_Rate                     0\n",
              "Post_Level                      0\n",
              "Pay_Scale                      12\n",
              "Compensation_and_Benefits       0\n",
              "Work_Life_balance              16\n",
              "VAR1                            0\n",
              "VAR2                          794\n",
              "VAR3                            0\n",
              "VAR4                          954\n",
              "VAR5                            0\n",
              "VAR6                            0\n",
              "VAR7                            0\n",
              "Attrition_rate               3000\n",
              "dtype: int64"
            ]
          },
          "metadata": {
            "tags": []
          },
          "execution_count": 20
        }
      ]
    },
    {
      "cell_type": "code",
      "metadata": {
        "id": "WQ5q_ZM27Xjo",
        "colab_type": "code",
        "colab": {
          "base_uri": "https://localhost:8080/",
          "height": 565
        },
        "outputId": "5d8d1110-01d6-4199-ccab-e08088dcd772"
      },
      "source": [
        "!pip install sweetviz"
      ],
      "execution_count": null,
      "outputs": [
        {
          "output_type": "stream",
          "text": [
            "Collecting sweetviz\n",
            "\u001b[?25l  Downloading https://files.pythonhosted.org/packages/8f/bd/f4454adfe1d3bbd04892d6172348ca215fa62d59fb09c1ac6b8a233341d3/sweetviz-1.0a7-py3-none-any.whl (323kB)\n",
            "\r\u001b[K     |█                               | 10kB 25.5MB/s eta 0:00:01\r\u001b[K     |██                              | 20kB 1.4MB/s eta 0:00:01\r\u001b[K     |███                             | 30kB 1.7MB/s eta 0:00:01\r\u001b[K     |████                            | 40kB 1.6MB/s eta 0:00:01\r\u001b[K     |█████                           | 51kB 1.9MB/s eta 0:00:01\r\u001b[K     |██████                          | 61kB 2.1MB/s eta 0:00:01\r\u001b[K     |███████                         | 71kB 2.3MB/s eta 0:00:01\r\u001b[K     |████████                        | 81kB 2.5MB/s eta 0:00:01\r\u001b[K     |█████████▏                      | 92kB 2.5MB/s eta 0:00:01\r\u001b[K     |██████████▏                     | 102kB 2.6MB/s eta 0:00:01\r\u001b[K     |███████████▏                    | 112kB 2.6MB/s eta 0:00:01\r\u001b[K     |████████████▏                   | 122kB 2.6MB/s eta 0:00:01\r\u001b[K     |█████████████▏                  | 133kB 2.6MB/s eta 0:00:01\r\u001b[K     |██████████████▏                 | 143kB 2.6MB/s eta 0:00:01\r\u001b[K     |███████████████▏                | 153kB 2.6MB/s eta 0:00:01\r\u001b[K     |████████████████▏               | 163kB 2.6MB/s eta 0:00:01\r\u001b[K     |█████████████████▎              | 174kB 2.6MB/s eta 0:00:01\r\u001b[K     |██████████████████▎             | 184kB 2.6MB/s eta 0:00:01\r\u001b[K     |███████████████████▎            | 194kB 2.6MB/s eta 0:00:01\r\u001b[K     |████████████████████▎           | 204kB 2.6MB/s eta 0:00:01\r\u001b[K     |█████████████████████▎          | 215kB 2.6MB/s eta 0:00:01\r\u001b[K     |██████████████████████▎         | 225kB 2.6MB/s eta 0:00:01\r\u001b[K     |███████████████████████▎        | 235kB 2.6MB/s eta 0:00:01\r\u001b[K     |████████████████████████▎       | 245kB 2.6MB/s eta 0:00:01\r\u001b[K     |█████████████████████████▍      | 256kB 2.6MB/s eta 0:00:01\r\u001b[K     |██████████████████████████▍     | 266kB 2.6MB/s eta 0:00:01\r\u001b[K     |███████████████████████████▍    | 276kB 2.6MB/s eta 0:00:01\r\u001b[K     |████████████████████████████▍   | 286kB 2.6MB/s eta 0:00:01\r\u001b[K     |█████████████████████████████▍  | 296kB 2.6MB/s eta 0:00:01\r\u001b[K     |██████████████████████████████▍ | 307kB 2.6MB/s eta 0:00:01\r\u001b[K     |███████████████████████████████▍| 317kB 2.6MB/s eta 0:00:01\r\u001b[K     |████████████████████████████████| 327kB 2.6MB/s \n",
            "\u001b[?25hRequirement already satisfied: scipy>=1.3.2 in /usr/local/lib/python3.6/dist-packages (from sweetviz) (1.4.1)\n",
            "Requirement already satisfied: pandas!=1.0.0,!=1.0.1,!=1.0.2,>=0.25.3 in /usr/local/lib/python3.6/dist-packages (from sweetviz) (1.0.5)\n",
            "Requirement already satisfied: jinja2>=2.11.1 in /usr/local/lib/python3.6/dist-packages (from sweetviz) (2.11.2)\n",
            "Requirement already satisfied: matplotlib>=3.1.3 in /usr/local/lib/python3.6/dist-packages (from sweetviz) (3.2.2)\n",
            "Collecting tqdm>=4.43.0\n",
            "\u001b[?25l  Downloading https://files.pythonhosted.org/packages/46/62/7663894f67ac5a41a0d8812d78d9d2a9404124051885af9d77dc526fb399/tqdm-4.47.0-py2.py3-none-any.whl (66kB)\n",
            "\u001b[K     |████████████████████████████████| 71kB 3.6MB/s \n",
            "\u001b[?25hRequirement already satisfied: numpy>=1.16.0 in /usr/local/lib/python3.6/dist-packages (from sweetviz) (1.18.5)\n",
            "Collecting importlib-resources>=1.2.0\n",
            "  Downloading https://files.pythonhosted.org/packages/ba/03/0f9595c0c2ef12590877f3c47e5f579759ce5caf817f8256d5dcbd8a1177/importlib_resources-3.0.0-py2.py3-none-any.whl\n",
            "Requirement already satisfied: python-dateutil>=2.6.1 in /usr/local/lib/python3.6/dist-packages (from pandas!=1.0.0,!=1.0.1,!=1.0.2,>=0.25.3->sweetviz) (2.8.1)\n",
            "Requirement already satisfied: pytz>=2017.2 in /usr/local/lib/python3.6/dist-packages (from pandas!=1.0.0,!=1.0.1,!=1.0.2,>=0.25.3->sweetviz) (2018.9)\n",
            "Requirement already satisfied: MarkupSafe>=0.23 in /usr/local/lib/python3.6/dist-packages (from jinja2>=2.11.1->sweetviz) (1.1.1)\n",
            "Requirement already satisfied: kiwisolver>=1.0.1 in /usr/local/lib/python3.6/dist-packages (from matplotlib>=3.1.3->sweetviz) (1.2.0)\n",
            "Requirement already satisfied: cycler>=0.10 in /usr/local/lib/python3.6/dist-packages (from matplotlib>=3.1.3->sweetviz) (0.10.0)\n",
            "Requirement already satisfied: pyparsing!=2.0.4,!=2.1.2,!=2.1.6,>=2.0.1 in /usr/local/lib/python3.6/dist-packages (from matplotlib>=3.1.3->sweetviz) (2.4.7)\n",
            "Requirement already satisfied: zipp>=0.4; python_version < \"3.8\" in /usr/local/lib/python3.6/dist-packages (from importlib-resources>=1.2.0->sweetviz) (3.1.0)\n",
            "Requirement already satisfied: six>=1.5 in /usr/local/lib/python3.6/dist-packages (from python-dateutil>=2.6.1->pandas!=1.0.0,!=1.0.1,!=1.0.2,>=0.25.3->sweetviz) (1.12.0)\n",
            "Installing collected packages: tqdm, importlib-resources, sweetviz\n",
            "  Found existing installation: tqdm 4.41.1\n",
            "    Uninstalling tqdm-4.41.1:\n",
            "      Successfully uninstalled tqdm-4.41.1\n",
            "Successfully installed importlib-resources-3.0.0 sweetviz-1.0a7 tqdm-4.47.0\n"
          ],
          "name": "stdout"
        },
        {
          "output_type": "display_data",
          "data": {
            "application/vnd.colab-display-data+json": {
              "pip_warning": {
                "packages": [
                  "tqdm"
                ]
              }
            }
          },
          "metadata": {
            "tags": []
          }
        }
      ]
    },
    {
      "cell_type": "code",
      "metadata": {
        "id": "-3aRnolS6p3d",
        "colab_type": "code",
        "colab": {
          "base_uri": "https://localhost:8080/",
          "height": 68
        },
        "outputId": "652da822-ced5-463d-8c00-38ca89a818d9"
      },
      "source": [
        "### Sweetviz will create a HTML report similar to pandas profiling feature ###\n",
        "import sweetviz as sv\n",
        "\n",
        "feature_config = sv.FeatureConfig(skip=\"Employee_ID\")   # Removing Employee_ID as it is primary key here.\n",
        "\n",
        "my_report = sv.compare([train_data,\"Train\"],[test_data,\"Test\"] ,'Attrition_rate', feature_config)\n",
        "my_report.show_html(\"Report.html\")"
      ],
      "execution_count": null,
      "outputs": [
        {
          "output_type": "stream",
          "text": [
            ":FEATURES DONE:                    |█████████████████████| [100%]   00:10  -> (00:00 left)\n",
            ":PAIRWISE DONE:                    |█████████████████████| [100%]   00:02  -> (00:00 left)\n"
          ],
          "name": "stderr"
        },
        {
          "output_type": "stream",
          "text": [
            "Creating Associations graph... DONE!\n"
          ],
          "name": "stdout"
        }
      ]
    },
    {
      "cell_type": "code",
      "metadata": {
        "id": "qJZ8lWnO6p3h",
        "colab_type": "code",
        "colab": {
          "base_uri": "https://localhost:8080/",
          "height": 204
        },
        "outputId": "ae740fa5-7623-468d-ccf7-c0e472b985a2"
      },
      "source": [
        "### Imputing the missing values in Age column ###\n",
        "median_age_on_g_rs = combined_data.groupby(['Gender', 'Relationship_Status'])['Age'].median().to_frame()\n",
        "\n",
        "median_age_on_g_rs"
      ],
      "execution_count": null,
      "outputs": [
        {
          "output_type": "execute_result",
          "data": {
            "text/html": [
              "<div>\n",
              "<style scoped>\n",
              "    .dataframe tbody tr th:only-of-type {\n",
              "        vertical-align: middle;\n",
              "    }\n",
              "\n",
              "    .dataframe tbody tr th {\n",
              "        vertical-align: top;\n",
              "    }\n",
              "\n",
              "    .dataframe thead th {\n",
              "        text-align: right;\n",
              "    }\n",
              "</style>\n",
              "<table border=\"1\" class=\"dataframe\">\n",
              "  <thead>\n",
              "    <tr style=\"text-align: right;\">\n",
              "      <th></th>\n",
              "      <th></th>\n",
              "      <th>Age</th>\n",
              "    </tr>\n",
              "    <tr>\n",
              "      <th>Gender</th>\n",
              "      <th>Relationship_Status</th>\n",
              "      <th></th>\n",
              "    </tr>\n",
              "  </thead>\n",
              "  <tbody>\n",
              "    <tr>\n",
              "      <th rowspan=\"2\" valign=\"top\">F</th>\n",
              "      <th>Married</th>\n",
              "      <td>38.0</td>\n",
              "    </tr>\n",
              "    <tr>\n",
              "      <th>Single</th>\n",
              "      <td>38.0</td>\n",
              "    </tr>\n",
              "    <tr>\n",
              "      <th rowspan=\"2\" valign=\"top\">M</th>\n",
              "      <th>Married</th>\n",
              "      <td>37.0</td>\n",
              "    </tr>\n",
              "    <tr>\n",
              "      <th>Single</th>\n",
              "      <td>38.0</td>\n",
              "    </tr>\n",
              "  </tbody>\n",
              "</table>\n",
              "</div>"
            ],
            "text/plain": [
              "                             Age\n",
              "Gender Relationship_Status      \n",
              "F      Married              38.0\n",
              "       Single               38.0\n",
              "M      Married              37.0\n",
              "       Single               38.0"
            ]
          },
          "metadata": {
            "tags": []
          },
          "execution_count": 24
        }
      ]
    },
    {
      "cell_type": "code",
      "metadata": {
        "id": "CWS-iy0g6p3k",
        "colab_type": "code",
        "colab": {}
      },
      "source": [
        "### Lets create a function to fill the missing Age based on Relationship status and Gender ###\n",
        "def fill_missing_age (cols):\n",
        "    Age = cols[0]\n",
        "    Gender = cols[1]\n",
        "    Relationship_Status= cols[2]\n",
        "\n",
        "    if (pd.isnull(Age)):\n",
        "        if (Gender == 'F'):\n",
        "            return 38\n",
        "        elif (Gender == 'M'):\n",
        "            if (Relationship_Status == 'Married'):\n",
        "                return 37\n",
        "            else: return 38\n",
        "    else: return Age"
      ],
      "execution_count": null,
      "outputs": []
    },
    {
      "cell_type": "code",
      "metadata": {
        "id": "KuU3yFFV6p3m",
        "colab_type": "code",
        "colab": {}
      },
      "source": [
        "combined_data['Age']= combined_data[['Age','Gender','Relationship_Status']].apply(fill_missing_age, axis=1)"
      ],
      "execution_count": null,
      "outputs": []
    },
    {
      "cell_type": "code",
      "metadata": {
        "id": "aMqWdahU6p3o",
        "colab_type": "code",
        "colab": {
          "base_uri": "https://localhost:8080/",
          "height": 34
        },
        "outputId": "8dc02443-8ab5-418c-bbb9-d38a3a66b1d5"
      },
      "source": [
        "### Lets check if Age column has any missing values. 0 means no missing values ###\n",
        "combined_data['Age'].isnull().sum()"
      ],
      "execution_count": null,
      "outputs": [
        {
          "output_type": "execute_result",
          "data": {
            "text/plain": [
              "0"
            ]
          },
          "metadata": {
            "tags": []
          },
          "execution_count": 27
        }
      ]
    },
    {
      "cell_type": "code",
      "metadata": {
        "id": "s-Reupdm6p3s",
        "colab_type": "code",
        "colab": {
          "base_uri": "https://localhost:8080/",
          "height": 34
        },
        "outputId": "e110eabf-209f-4b38-891d-b76ab95195d8"
      },
      "source": [
        "### Time_of_service imputation ###\n",
        "median_ts = combined_data['Time_of_service'].median()\n",
        "\n",
        "median_ts"
      ],
      "execution_count": null,
      "outputs": [
        {
          "output_type": "execute_result",
          "data": {
            "text/plain": [
              "10.0"
            ]
          },
          "metadata": {
            "tags": []
          },
          "execution_count": 28
        }
      ]
    },
    {
      "cell_type": "code",
      "metadata": {
        "id": "yElgTZac6p3w",
        "colab_type": "code",
        "colab": {}
      },
      "source": [
        "combined_data['Time_of_service'] = combined_data['Time_of_service'].fillna(median_ts)"
      ],
      "execution_count": null,
      "outputs": []
    },
    {
      "cell_type": "code",
      "metadata": {
        "id": "Dg30xNfz6p3y",
        "colab_type": "code",
        "colab": {
          "base_uri": "https://localhost:8080/",
          "height": 34
        },
        "outputId": "d3d5f738-54f3-4997-8883-f0a4f985aaa7"
      },
      "source": [
        "combined_data['Time_of_service'].isnull().sum()"
      ],
      "execution_count": null,
      "outputs": [
        {
          "output_type": "execute_result",
          "data": {
            "text/plain": [
              "0"
            ]
          },
          "metadata": {
            "tags": []
          },
          "execution_count": 30
        }
      ]
    },
    {
      "cell_type": "code",
      "metadata": {
        "id": "DNgWxnQo6p31",
        "colab_type": "code",
        "colab": {
          "base_uri": "https://localhost:8080/",
          "height": 34
        },
        "outputId": "4065d1b2-50fa-4782-b26b-aaa2505d494c"
      },
      "source": [
        "### Pay scale imputation ###\n",
        "mode_ps = math.floor(train_data['Pay_Scale'].mode())\n",
        "\n",
        "mode_ps"
      ],
      "execution_count": null,
      "outputs": [
        {
          "output_type": "execute_result",
          "data": {
            "text/plain": [
              "8"
            ]
          },
          "metadata": {
            "tags": []
          },
          "execution_count": 31
        }
      ]
    },
    {
      "cell_type": "code",
      "metadata": {
        "id": "cByaKj3j6p34",
        "colab_type": "code",
        "colab": {
          "base_uri": "https://localhost:8080/",
          "height": 34
        },
        "outputId": "ce819ba8-4843-4766-9337-fe59084adc8e"
      },
      "source": [
        "combined_data['Pay_Scale'] = combined_data['Pay_Scale'].fillna(mode_ps)\n",
        "\n",
        "combined_data['Pay_Scale'].isnull().sum()"
      ],
      "execution_count": null,
      "outputs": [
        {
          "output_type": "execute_result",
          "data": {
            "text/plain": [
              "0"
            ]
          },
          "metadata": {
            "tags": []
          },
          "execution_count": 32
        }
      ]
    },
    {
      "cell_type": "code",
      "metadata": {
        "id": "QP8wJr_d6p36",
        "colab_type": "code",
        "colab": {
          "base_uri": "https://localhost:8080/",
          "height": 34
        },
        "outputId": "692b5721-1748-421d-b054-5c2af6895475"
      },
      "source": [
        "### Work life balance imputation ###\n",
        "mode_wlb = math.floor(combined_data['Work_Life_balance'].mode())\n",
        "\n",
        "mode_wlb"
      ],
      "execution_count": null,
      "outputs": [
        {
          "output_type": "execute_result",
          "data": {
            "text/plain": [
              "1"
            ]
          },
          "metadata": {
            "tags": []
          },
          "execution_count": 33
        }
      ]
    },
    {
      "cell_type": "code",
      "metadata": {
        "id": "awsGXErP6p39",
        "colab_type": "code",
        "colab": {
          "base_uri": "https://localhost:8080/",
          "height": 34
        },
        "outputId": "c8037c40-5ceb-4b51-aef5-2ba68c8420a4"
      },
      "source": [
        "combined_data['Work_Life_balance'] = combined_data['Work_Life_balance'].fillna(mode_wlb)\n",
        "\n",
        "combined_data['Work_Life_balance'].isnull().sum()"
      ],
      "execution_count": null,
      "outputs": [
        {
          "output_type": "execute_result",
          "data": {
            "text/plain": [
              "0"
            ]
          },
          "metadata": {
            "tags": []
          },
          "execution_count": 34
        }
      ]
    },
    {
      "cell_type": "code",
      "metadata": {
        "id": "O24hMojw6p4B",
        "colab_type": "code",
        "colab": {}
      },
      "source": [
        "from sklearn.preprocessing import LabelEncoder\n",
        "\n",
        "lb_enc = LabelEncoder()"
      ],
      "execution_count": null,
      "outputs": []
    },
    {
      "cell_type": "code",
      "metadata": {
        "id": "jqv7fpwh6p4D",
        "colab_type": "code",
        "colab": {}
      },
      "source": [
        "### Label encoding the VAR2, VAR3 ###\n",
        "combined_data['VAR2'] =lb_enc.fit_transform(combined_data['VAR2'])\n",
        "combined_data['VAR3'] =lb_enc.fit_transform(combined_data['VAR3'])"
      ],
      "execution_count": null,
      "outputs": []
    },
    {
      "cell_type": "code",
      "metadata": {
        "id": "nOIqpoFr6p4F",
        "colab_type": "code",
        "colab": {
          "base_uri": "https://localhost:8080/",
          "height": 34
        },
        "outputId": "361cc7c9-b244-45c4-c6de-714f092ddec4"
      },
      "source": [
        "### VAR2 imputation. Var2 is a categoricla value column as observed in the Report.html ###\n",
        "mode_var2 = math.floor(combined_data[\"VAR2\"].mode())\n",
        "\n",
        "mode_var2"
      ],
      "execution_count": null,
      "outputs": [
        {
          "output_type": "execute_result",
          "data": {
            "text/plain": [
              "3"
            ]
          },
          "metadata": {
            "tags": []
          },
          "execution_count": 37
        }
      ]
    },
    {
      "cell_type": "code",
      "metadata": {
        "id": "192KqM1Z6p4H",
        "colab_type": "code",
        "colab": {
          "base_uri": "https://localhost:8080/",
          "height": 34
        },
        "outputId": "767d5d30-6530-4a67-ef93-5aacc1704808"
      },
      "source": [
        "combined_data[\"VAR2\"] = combined_data[\"VAR2\"].fillna(mode_var2)\n",
        "\n",
        "combined_data[\"VAR2\"].isnull().sum()"
      ],
      "execution_count": null,
      "outputs": [
        {
          "output_type": "execute_result",
          "data": {
            "text/plain": [
              "0"
            ]
          },
          "metadata": {
            "tags": []
          },
          "execution_count": 38
        }
      ]
    },
    {
      "cell_type": "code",
      "metadata": {
        "id": "c7zefd-z6p4K",
        "colab_type": "code",
        "colab": {
          "base_uri": "https://localhost:8080/",
          "height": 34
        },
        "outputId": "398cd33b-9432-4d7a-e2fd-bc4134dec2f8"
      },
      "source": [
        "### VAR4 imputation ###\n",
        "mode_var4 = math.floor(combined_data[\"VAR4\"].mode())\n",
        "\n",
        "mode_var4"
      ],
      "execution_count": null,
      "outputs": [
        {
          "output_type": "execute_result",
          "data": {
            "text/plain": [
              "2"
            ]
          },
          "metadata": {
            "tags": []
          },
          "execution_count": 39
        }
      ]
    },
    {
      "cell_type": "code",
      "metadata": {
        "id": "93t_kMPQ6p4M",
        "colab_type": "code",
        "colab": {
          "base_uri": "https://localhost:8080/",
          "height": 34
        },
        "outputId": "754e7127-cc16-4c58-eb21-cced665a2b57"
      },
      "source": [
        "combined_data[\"VAR4\"] = combined_data[\"VAR4\"].fillna(mode_var2)\n",
        "\n",
        "combined_data[\"VAR4\"].isnull().sum()"
      ],
      "execution_count": null,
      "outputs": [
        {
          "output_type": "execute_result",
          "data": {
            "text/plain": [
              "0"
            ]
          },
          "metadata": {
            "tags": []
          },
          "execution_count": 40
        }
      ]
    },
    {
      "cell_type": "code",
      "metadata": {
        "id": "J8R-Bqi96p4Q",
        "colab_type": "code",
        "colab": {
          "base_uri": "https://localhost:8080/",
          "height": 442
        },
        "outputId": "1b0dece1-7596-4600-de6a-8f682f64291b"
      },
      "source": [
        "### Final check for any missing values. Ignoring the class column Attrition rate ###\n",
        "combined_data.isnull().sum()"
      ],
      "execution_count": null,
      "outputs": [
        {
          "output_type": "execute_result",
          "data": {
            "text/plain": [
              "Employee_ID                     0\n",
              "Gender                          0\n",
              "Age                             0\n",
              "Education_Level                 0\n",
              "Relationship_Status             0\n",
              "Hometown                        0\n",
              "Unit                            0\n",
              "Decision_skill_possess          0\n",
              "Time_of_service                 0\n",
              "Time_since_promotion            0\n",
              "growth_rate                     0\n",
              "Travel_Rate                     0\n",
              "Post_Level                      0\n",
              "Pay_Scale                       0\n",
              "Compensation_and_Benefits       0\n",
              "Work_Life_balance               0\n",
              "VAR1                            0\n",
              "VAR2                            0\n",
              "VAR3                            0\n",
              "VAR4                            0\n",
              "VAR5                            0\n",
              "VAR6                            0\n",
              "VAR7                            0\n",
              "Attrition_rate               3000\n",
              "dtype: int64"
            ]
          },
          "metadata": {
            "tags": []
          },
          "execution_count": 41
        }
      ]
    },
    {
      "cell_type": "code",
      "metadata": {
        "id": "X6ScOBQb6p4S",
        "colab_type": "code",
        "colab": {}
      },
      "source": [
        "### Separate the training and test data ###\n",
        "train_data = combined_data.iloc[0:7000,:]"
      ],
      "execution_count": null,
      "outputs": []
    },
    {
      "cell_type": "code",
      "metadata": {
        "id": "AE4v_zSN6p4U",
        "colab_type": "code",
        "colab": {
          "base_uri": "https://localhost:8080/",
          "height": 34
        },
        "outputId": "e8df3196-2485-4779-93a6-d9e10b96e1c4"
      },
      "source": [
        "train_data.shape"
      ],
      "execution_count": null,
      "outputs": [
        {
          "output_type": "execute_result",
          "data": {
            "text/plain": [
              "(7000, 24)"
            ]
          },
          "metadata": {
            "tags": []
          },
          "execution_count": 43
        }
      ]
    },
    {
      "cell_type": "code",
      "metadata": {
        "id": "yo51Nx0p6p4X",
        "colab_type": "code",
        "colab": {
          "base_uri": "https://localhost:8080/",
          "height": 442
        },
        "outputId": "57754611-0e4b-48d1-e7dc-367c8072f384"
      },
      "source": [
        "train_data.isnull().sum()"
      ],
      "execution_count": null,
      "outputs": [
        {
          "output_type": "execute_result",
          "data": {
            "text/plain": [
              "Employee_ID                  0\n",
              "Gender                       0\n",
              "Age                          0\n",
              "Education_Level              0\n",
              "Relationship_Status          0\n",
              "Hometown                     0\n",
              "Unit                         0\n",
              "Decision_skill_possess       0\n",
              "Time_of_service              0\n",
              "Time_since_promotion         0\n",
              "growth_rate                  0\n",
              "Travel_Rate                  0\n",
              "Post_Level                   0\n",
              "Pay_Scale                    0\n",
              "Compensation_and_Benefits    0\n",
              "Work_Life_balance            0\n",
              "VAR1                         0\n",
              "VAR2                         0\n",
              "VAR3                         0\n",
              "VAR4                         0\n",
              "VAR5                         0\n",
              "VAR6                         0\n",
              "VAR7                         0\n",
              "Attrition_rate               0\n",
              "dtype: int64"
            ]
          },
          "metadata": {
            "tags": []
          },
          "execution_count": 44
        }
      ]
    },
    {
      "cell_type": "code",
      "metadata": {
        "id": "bF-KTYEs6p4b",
        "colab_type": "code",
        "colab": {}
      },
      "source": [
        "test_data = combined_data.iloc[7000:,:]"
      ],
      "execution_count": null,
      "outputs": []
    },
    {
      "cell_type": "code",
      "metadata": {
        "id": "ELREAL9c6p4d",
        "colab_type": "code",
        "colab": {
          "base_uri": "https://localhost:8080/",
          "height": 34
        },
        "outputId": "72553c2a-4f12-463a-cf4a-0b698fc95ef7"
      },
      "source": [
        "test_data.shape"
      ],
      "execution_count": null,
      "outputs": [
        {
          "output_type": "execute_result",
          "data": {
            "text/plain": [
              "(3000, 24)"
            ]
          },
          "metadata": {
            "tags": []
          },
          "execution_count": 46
        }
      ]
    },
    {
      "cell_type": "code",
      "metadata": {
        "id": "EdLi_Yj26p4h",
        "colab_type": "code",
        "colab": {
          "base_uri": "https://localhost:8080/",
          "height": 224
        },
        "outputId": "276d2ba1-bddc-4188-8180-319d0105bc11"
      },
      "source": [
        "test_data.head()"
      ],
      "execution_count": null,
      "outputs": [
        {
          "output_type": "execute_result",
          "data": {
            "text/html": [
              "<div>\n",
              "<style scoped>\n",
              "    .dataframe tbody tr th:only-of-type {\n",
              "        vertical-align: middle;\n",
              "    }\n",
              "\n",
              "    .dataframe tbody tr th {\n",
              "        vertical-align: top;\n",
              "    }\n",
              "\n",
              "    .dataframe thead th {\n",
              "        text-align: right;\n",
              "    }\n",
              "</style>\n",
              "<table border=\"1\" class=\"dataframe\">\n",
              "  <thead>\n",
              "    <tr style=\"text-align: right;\">\n",
              "      <th></th>\n",
              "      <th>Employee_ID</th>\n",
              "      <th>Gender</th>\n",
              "      <th>Age</th>\n",
              "      <th>Education_Level</th>\n",
              "      <th>Relationship_Status</th>\n",
              "      <th>Hometown</th>\n",
              "      <th>Unit</th>\n",
              "      <th>Decision_skill_possess</th>\n",
              "      <th>Time_of_service</th>\n",
              "      <th>Time_since_promotion</th>\n",
              "      <th>growth_rate</th>\n",
              "      <th>Travel_Rate</th>\n",
              "      <th>Post_Level</th>\n",
              "      <th>Pay_Scale</th>\n",
              "      <th>Compensation_and_Benefits</th>\n",
              "      <th>Work_Life_balance</th>\n",
              "      <th>VAR1</th>\n",
              "      <th>VAR2</th>\n",
              "      <th>VAR3</th>\n",
              "      <th>VAR4</th>\n",
              "      <th>VAR5</th>\n",
              "      <th>VAR6</th>\n",
              "      <th>VAR7</th>\n",
              "      <th>Attrition_rate</th>\n",
              "    </tr>\n",
              "  </thead>\n",
              "  <tbody>\n",
              "    <tr>\n",
              "      <th>0</th>\n",
              "      <td>EID_22713</td>\n",
              "      <td>F</td>\n",
              "      <td>32.0</td>\n",
              "      <td>5</td>\n",
              "      <td>Single</td>\n",
              "      <td>Springfield</td>\n",
              "      <td>R&amp;D</td>\n",
              "      <td>Conceptual</td>\n",
              "      <td>7.0</td>\n",
              "      <td>4</td>\n",
              "      <td>30</td>\n",
              "      <td>1</td>\n",
              "      <td>5</td>\n",
              "      <td>4.0</td>\n",
              "      <td>type2</td>\n",
              "      <td>1.0</td>\n",
              "      <td>3</td>\n",
              "      <td>1</td>\n",
              "      <td>2</td>\n",
              "      <td>2.0</td>\n",
              "      <td>1</td>\n",
              "      <td>8</td>\n",
              "      <td>4</td>\n",
              "      <td>NaN</td>\n",
              "    </tr>\n",
              "    <tr>\n",
              "      <th>1</th>\n",
              "      <td>EID_9658</td>\n",
              "      <td>M</td>\n",
              "      <td>65.0</td>\n",
              "      <td>2</td>\n",
              "      <td>Single</td>\n",
              "      <td>Lebanon</td>\n",
              "      <td>IT</td>\n",
              "      <td>Directive</td>\n",
              "      <td>41.0</td>\n",
              "      <td>2</td>\n",
              "      <td>72</td>\n",
              "      <td>1</td>\n",
              "      <td>1</td>\n",
              "      <td>1.0</td>\n",
              "      <td>type2</td>\n",
              "      <td>1.0</td>\n",
              "      <td>4</td>\n",
              "      <td>1</td>\n",
              "      <td>3</td>\n",
              "      <td>1.0</td>\n",
              "      <td>2</td>\n",
              "      <td>8</td>\n",
              "      <td>2</td>\n",
              "      <td>NaN</td>\n",
              "    </tr>\n",
              "    <tr>\n",
              "      <th>2</th>\n",
              "      <td>EID_22203</td>\n",
              "      <td>M</td>\n",
              "      <td>52.0</td>\n",
              "      <td>3</td>\n",
              "      <td>Married</td>\n",
              "      <td>Springfield</td>\n",
              "      <td>Sales</td>\n",
              "      <td>Directive</td>\n",
              "      <td>21.0</td>\n",
              "      <td>3</td>\n",
              "      <td>25</td>\n",
              "      <td>0</td>\n",
              "      <td>1</td>\n",
              "      <td>8.0</td>\n",
              "      <td>type3</td>\n",
              "      <td>1.0</td>\n",
              "      <td>4</td>\n",
              "      <td>2</td>\n",
              "      <td>3</td>\n",
              "      <td>2.0</td>\n",
              "      <td>1</td>\n",
              "      <td>9</td>\n",
              "      <td>3</td>\n",
              "      <td>NaN</td>\n",
              "    </tr>\n",
              "    <tr>\n",
              "      <th>3</th>\n",
              "      <td>EID_7652</td>\n",
              "      <td>M</td>\n",
              "      <td>50.0</td>\n",
              "      <td>5</td>\n",
              "      <td>Single</td>\n",
              "      <td>Washington</td>\n",
              "      <td>Marketing</td>\n",
              "      <td>Analytical</td>\n",
              "      <td>11.0</td>\n",
              "      <td>4</td>\n",
              "      <td>28</td>\n",
              "      <td>1</td>\n",
              "      <td>1</td>\n",
              "      <td>2.0</td>\n",
              "      <td>type0</td>\n",
              "      <td>4.0</td>\n",
              "      <td>3</td>\n",
              "      <td>2</td>\n",
              "      <td>3</td>\n",
              "      <td>2.0</td>\n",
              "      <td>2</td>\n",
              "      <td>8</td>\n",
              "      <td>3</td>\n",
              "      <td>NaN</td>\n",
              "    </tr>\n",
              "    <tr>\n",
              "      <th>4</th>\n",
              "      <td>EID_6516</td>\n",
              "      <td>F</td>\n",
              "      <td>44.0</td>\n",
              "      <td>3</td>\n",
              "      <td>Married</td>\n",
              "      <td>Franklin</td>\n",
              "      <td>R&amp;D</td>\n",
              "      <td>Conceptual</td>\n",
              "      <td>12.0</td>\n",
              "      <td>4</td>\n",
              "      <td>47</td>\n",
              "      <td>1</td>\n",
              "      <td>3</td>\n",
              "      <td>2.0</td>\n",
              "      <td>type2</td>\n",
              "      <td>4.0</td>\n",
              "      <td>4</td>\n",
              "      <td>4</td>\n",
              "      <td>3</td>\n",
              "      <td>2.0</td>\n",
              "      <td>2</td>\n",
              "      <td>7</td>\n",
              "      <td>4</td>\n",
              "      <td>NaN</td>\n",
              "    </tr>\n",
              "  </tbody>\n",
              "</table>\n",
              "</div>"
            ],
            "text/plain": [
              "  Employee_ID Gender   Age  Education_Level  ... VAR5 VAR6 VAR7 Attrition_rate\n",
              "0   EID_22713      F  32.0                5  ...    1    8    4            NaN\n",
              "1    EID_9658      M  65.0                2  ...    2    8    2            NaN\n",
              "2   EID_22203      M  52.0                3  ...    1    9    3            NaN\n",
              "3    EID_7652      M  50.0                5  ...    2    8    3            NaN\n",
              "4    EID_6516      F  44.0                3  ...    2    7    4            NaN\n",
              "\n",
              "[5 rows x 24 columns]"
            ]
          },
          "metadata": {
            "tags": []
          },
          "execution_count": 47
        }
      ]
    },
    {
      "cell_type": "code",
      "metadata": {
        "id": "u9YldnCe6p4l",
        "colab_type": "code",
        "colab": {
          "base_uri": "https://localhost:8080/",
          "height": 442
        },
        "outputId": "9d140fc0-2753-47ff-9e6c-8efd5bd71c04"
      },
      "source": [
        "test_data.isnull().sum()"
      ],
      "execution_count": null,
      "outputs": [
        {
          "output_type": "execute_result",
          "data": {
            "text/plain": [
              "Employee_ID                     0\n",
              "Gender                          0\n",
              "Age                             0\n",
              "Education_Level                 0\n",
              "Relationship_Status             0\n",
              "Hometown                        0\n",
              "Unit                            0\n",
              "Decision_skill_possess          0\n",
              "Time_of_service                 0\n",
              "Time_since_promotion            0\n",
              "growth_rate                     0\n",
              "Travel_Rate                     0\n",
              "Post_Level                      0\n",
              "Pay_Scale                       0\n",
              "Compensation_and_Benefits       0\n",
              "Work_Life_balance               0\n",
              "VAR1                            0\n",
              "VAR2                            0\n",
              "VAR3                            0\n",
              "VAR4                            0\n",
              "VAR5                            0\n",
              "VAR6                            0\n",
              "VAR7                            0\n",
              "Attrition_rate               3000\n",
              "dtype: int64"
            ]
          },
          "metadata": {
            "tags": []
          },
          "execution_count": 48
        }
      ]
    },
    {
      "cell_type": "code",
      "metadata": {
        "id": "N_SSLjvD6p4o",
        "colab_type": "code",
        "colab": {}
      },
      "source": [
        "### Label encoding the columns for feature selection ###\n",
        "\n",
        "temp_data = train_data.iloc[:,1:23]"
      ],
      "execution_count": null,
      "outputs": []
    },
    {
      "cell_type": "code",
      "metadata": {
        "id": "hG5HC3_F6p4q",
        "colab_type": "code",
        "colab": {}
      },
      "source": [
        "temp_data[\"Gender\"] = lb_enc.fit_transform(temp_data['Gender'])\n",
        "temp_data[\"Relationship_Status\"] = lb_enc.fit_transform(temp_data['Relationship_Status'])\n",
        "temp_data[\"Hometown\"] = lb_enc.fit_transform(temp_data['Hometown'])\n",
        "temp_data[\"Unit\"] = lb_enc.fit_transform(temp_data['Unit'])\n",
        "temp_data[\"Decision_skill_possess\"] = lb_enc.fit_transform(temp_data['Decision_skill_possess'])\n",
        "temp_data[\"Compensation_and_Benefits\"] = lb_enc.fit_transform(temp_data['Compensation_and_Benefits'])"
      ],
      "execution_count": null,
      "outputs": []
    },
    {
      "cell_type": "code",
      "metadata": {
        "id": "L_CPvi0f6p4u",
        "colab_type": "code",
        "colab": {
          "base_uri": "https://localhost:8080/",
          "height": 439
        },
        "outputId": "11608f85-d15f-4240-de41-b211a61dcad8"
      },
      "source": [
        "temp_data"
      ],
      "execution_count": null,
      "outputs": [
        {
          "output_type": "execute_result",
          "data": {
            "text/html": [
              "<div>\n",
              "<style scoped>\n",
              "    .dataframe tbody tr th:only-of-type {\n",
              "        vertical-align: middle;\n",
              "    }\n",
              "\n",
              "    .dataframe tbody tr th {\n",
              "        vertical-align: top;\n",
              "    }\n",
              "\n",
              "    .dataframe thead th {\n",
              "        text-align: right;\n",
              "    }\n",
              "</style>\n",
              "<table border=\"1\" class=\"dataframe\">\n",
              "  <thead>\n",
              "    <tr style=\"text-align: right;\">\n",
              "      <th></th>\n",
              "      <th>Gender</th>\n",
              "      <th>Age</th>\n",
              "      <th>Education_Level</th>\n",
              "      <th>Relationship_Status</th>\n",
              "      <th>Hometown</th>\n",
              "      <th>Unit</th>\n",
              "      <th>Decision_skill_possess</th>\n",
              "      <th>Time_of_service</th>\n",
              "      <th>Time_since_promotion</th>\n",
              "      <th>growth_rate</th>\n",
              "      <th>Travel_Rate</th>\n",
              "      <th>Post_Level</th>\n",
              "      <th>Pay_Scale</th>\n",
              "      <th>Compensation_and_Benefits</th>\n",
              "      <th>Work_Life_balance</th>\n",
              "      <th>VAR1</th>\n",
              "      <th>VAR2</th>\n",
              "      <th>VAR3</th>\n",
              "      <th>VAR4</th>\n",
              "      <th>VAR5</th>\n",
              "      <th>VAR6</th>\n",
              "      <th>VAR7</th>\n",
              "    </tr>\n",
              "  </thead>\n",
              "  <tbody>\n",
              "    <tr>\n",
              "      <th>0</th>\n",
              "      <td>0</td>\n",
              "      <td>42.0</td>\n",
              "      <td>4</td>\n",
              "      <td>0</td>\n",
              "      <td>1</td>\n",
              "      <td>2</td>\n",
              "      <td>2</td>\n",
              "      <td>4.0</td>\n",
              "      <td>4</td>\n",
              "      <td>33</td>\n",
              "      <td>1</td>\n",
              "      <td>1</td>\n",
              "      <td>7.0</td>\n",
              "      <td>2</td>\n",
              "      <td>3.0</td>\n",
              "      <td>4</td>\n",
              "      <td>3</td>\n",
              "      <td>4</td>\n",
              "      <td>2.0</td>\n",
              "      <td>4</td>\n",
              "      <td>5</td>\n",
              "      <td>3</td>\n",
              "    </tr>\n",
              "    <tr>\n",
              "      <th>1</th>\n",
              "      <td>1</td>\n",
              "      <td>24.0</td>\n",
              "      <td>3</td>\n",
              "      <td>1</td>\n",
              "      <td>3</td>\n",
              "      <td>3</td>\n",
              "      <td>0</td>\n",
              "      <td>5.0</td>\n",
              "      <td>4</td>\n",
              "      <td>36</td>\n",
              "      <td>0</td>\n",
              "      <td>3</td>\n",
              "      <td>6.0</td>\n",
              "      <td>2</td>\n",
              "      <td>4.0</td>\n",
              "      <td>3</td>\n",
              "      <td>1</td>\n",
              "      <td>2</td>\n",
              "      <td>2.0</td>\n",
              "      <td>3</td>\n",
              "      <td>5</td>\n",
              "      <td>3</td>\n",
              "    </tr>\n",
              "    <tr>\n",
              "      <th>2</th>\n",
              "      <td>0</td>\n",
              "      <td>58.0</td>\n",
              "      <td>3</td>\n",
              "      <td>0</td>\n",
              "      <td>0</td>\n",
              "      <td>8</td>\n",
              "      <td>2</td>\n",
              "      <td>27.0</td>\n",
              "      <td>3</td>\n",
              "      <td>51</td>\n",
              "      <td>0</td>\n",
              "      <td>2</td>\n",
              "      <td>8.0</td>\n",
              "      <td>2</td>\n",
              "      <td>1.0</td>\n",
              "      <td>4</td>\n",
              "      <td>1</td>\n",
              "      <td>2</td>\n",
              "      <td>3.0</td>\n",
              "      <td>3</td>\n",
              "      <td>8</td>\n",
              "      <td>3</td>\n",
              "    </tr>\n",
              "    <tr>\n",
              "      <th>3</th>\n",
              "      <td>0</td>\n",
              "      <td>26.0</td>\n",
              "      <td>3</td>\n",
              "      <td>1</td>\n",
              "      <td>2</td>\n",
              "      <td>1</td>\n",
              "      <td>1</td>\n",
              "      <td>4.0</td>\n",
              "      <td>3</td>\n",
              "      <td>56</td>\n",
              "      <td>1</td>\n",
              "      <td>3</td>\n",
              "      <td>8.0</td>\n",
              "      <td>2</td>\n",
              "      <td>1.0</td>\n",
              "      <td>3</td>\n",
              "      <td>0</td>\n",
              "      <td>2</td>\n",
              "      <td>3.0</td>\n",
              "      <td>3</td>\n",
              "      <td>7</td>\n",
              "      <td>3</td>\n",
              "    </tr>\n",
              "    <tr>\n",
              "      <th>4</th>\n",
              "      <td>0</td>\n",
              "      <td>31.0</td>\n",
              "      <td>1</td>\n",
              "      <td>0</td>\n",
              "      <td>3</td>\n",
              "      <td>3</td>\n",
              "      <td>2</td>\n",
              "      <td>5.0</td>\n",
              "      <td>4</td>\n",
              "      <td>62</td>\n",
              "      <td>1</td>\n",
              "      <td>3</td>\n",
              "      <td>2.0</td>\n",
              "      <td>3</td>\n",
              "      <td>3.0</td>\n",
              "      <td>1</td>\n",
              "      <td>3</td>\n",
              "      <td>2</td>\n",
              "      <td>2.0</td>\n",
              "      <td>2</td>\n",
              "      <td>8</td>\n",
              "      <td>2</td>\n",
              "    </tr>\n",
              "    <tr>\n",
              "      <th>...</th>\n",
              "      <td>...</td>\n",
              "      <td>...</td>\n",
              "      <td>...</td>\n",
              "      <td>...</td>\n",
              "      <td>...</td>\n",
              "      <td>...</td>\n",
              "      <td>...</td>\n",
              "      <td>...</td>\n",
              "      <td>...</td>\n",
              "      <td>...</td>\n",
              "      <td>...</td>\n",
              "      <td>...</td>\n",
              "      <td>...</td>\n",
              "      <td>...</td>\n",
              "      <td>...</td>\n",
              "      <td>...</td>\n",
              "      <td>...</td>\n",
              "      <td>...</td>\n",
              "      <td>...</td>\n",
              "      <td>...</td>\n",
              "      <td>...</td>\n",
              "      <td>...</td>\n",
              "    </tr>\n",
              "    <tr>\n",
              "      <th>6995</th>\n",
              "      <td>0</td>\n",
              "      <td>23.0</td>\n",
              "      <td>5</td>\n",
              "      <td>0</td>\n",
              "      <td>1</td>\n",
              "      <td>5</td>\n",
              "      <td>1</td>\n",
              "      <td>4.0</td>\n",
              "      <td>1</td>\n",
              "      <td>20</td>\n",
              "      <td>1</td>\n",
              "      <td>2</td>\n",
              "      <td>6.0</td>\n",
              "      <td>3</td>\n",
              "      <td>3.0</td>\n",
              "      <td>1</td>\n",
              "      <td>3</td>\n",
              "      <td>2</td>\n",
              "      <td>2.0</td>\n",
              "      <td>3</td>\n",
              "      <td>7</td>\n",
              "      <td>3</td>\n",
              "    </tr>\n",
              "    <tr>\n",
              "      <th>6996</th>\n",
              "      <td>0</td>\n",
              "      <td>44.0</td>\n",
              "      <td>1</td>\n",
              "      <td>0</td>\n",
              "      <td>2</td>\n",
              "      <td>9</td>\n",
              "      <td>0</td>\n",
              "      <td>16.0</td>\n",
              "      <td>2</td>\n",
              "      <td>59</td>\n",
              "      <td>0</td>\n",
              "      <td>2</td>\n",
              "      <td>4.0</td>\n",
              "      <td>3</td>\n",
              "      <td>3.0</td>\n",
              "      <td>2</td>\n",
              "      <td>2</td>\n",
              "      <td>0</td>\n",
              "      <td>2.0</td>\n",
              "      <td>4</td>\n",
              "      <td>8</td>\n",
              "      <td>4</td>\n",
              "    </tr>\n",
              "    <tr>\n",
              "      <th>6997</th>\n",
              "      <td>0</td>\n",
              "      <td>49.0</td>\n",
              "      <td>3</td>\n",
              "      <td>1</td>\n",
              "      <td>3</td>\n",
              "      <td>2</td>\n",
              "      <td>3</td>\n",
              "      <td>10.0</td>\n",
              "      <td>1</td>\n",
              "      <td>59</td>\n",
              "      <td>1</td>\n",
              "      <td>2</td>\n",
              "      <td>3.0</td>\n",
              "      <td>2</td>\n",
              "      <td>4.0</td>\n",
              "      <td>2</td>\n",
              "      <td>2</td>\n",
              "      <td>2</td>\n",
              "      <td>2.0</td>\n",
              "      <td>4</td>\n",
              "      <td>8</td>\n",
              "      <td>3</td>\n",
              "    </tr>\n",
              "    <tr>\n",
              "      <th>6998</th>\n",
              "      <td>0</td>\n",
              "      <td>47.0</td>\n",
              "      <td>3</td>\n",
              "      <td>0</td>\n",
              "      <td>4</td>\n",
              "      <td>10</td>\n",
              "      <td>1</td>\n",
              "      <td>24.0</td>\n",
              "      <td>1</td>\n",
              "      <td>21</td>\n",
              "      <td>1</td>\n",
              "      <td>5</td>\n",
              "      <td>8.0</td>\n",
              "      <td>0</td>\n",
              "      <td>2.0</td>\n",
              "      <td>4</td>\n",
              "      <td>3</td>\n",
              "      <td>4</td>\n",
              "      <td>2.0</td>\n",
              "      <td>3</td>\n",
              "      <td>6</td>\n",
              "      <td>3</td>\n",
              "    </tr>\n",
              "    <tr>\n",
              "      <th>6999</th>\n",
              "      <td>0</td>\n",
              "      <td>58.0</td>\n",
              "      <td>3</td>\n",
              "      <td>0</td>\n",
              "      <td>1</td>\n",
              "      <td>2</td>\n",
              "      <td>3</td>\n",
              "      <td>22.0</td>\n",
              "      <td>2</td>\n",
              "      <td>74</td>\n",
              "      <td>0</td>\n",
              "      <td>4</td>\n",
              "      <td>5.0</td>\n",
              "      <td>2</td>\n",
              "      <td>3.0</td>\n",
              "      <td>3</td>\n",
              "      <td>2</td>\n",
              "      <td>1</td>\n",
              "      <td>3.0</td>\n",
              "      <td>4</td>\n",
              "      <td>5</td>\n",
              "      <td>3</td>\n",
              "    </tr>\n",
              "  </tbody>\n",
              "</table>\n",
              "<p>7000 rows × 22 columns</p>\n",
              "</div>"
            ],
            "text/plain": [
              "      Gender   Age  Education_Level  ...  VAR5  VAR6  VAR7\n",
              "0          0  42.0                4  ...     4     5     3\n",
              "1          1  24.0                3  ...     3     5     3\n",
              "2          0  58.0                3  ...     3     8     3\n",
              "3          0  26.0                3  ...     3     7     3\n",
              "4          0  31.0                1  ...     2     8     2\n",
              "...      ...   ...              ...  ...   ...   ...   ...\n",
              "6995       0  23.0                5  ...     3     7     3\n",
              "6996       0  44.0                1  ...     4     8     4\n",
              "6997       0  49.0                3  ...     4     8     3\n",
              "6998       0  47.0                3  ...     3     6     3\n",
              "6999       0  58.0                3  ...     4     5     3\n",
              "\n",
              "[7000 rows x 22 columns]"
            ]
          },
          "metadata": {
            "tags": []
          },
          "execution_count": 51
        }
      ]
    },
    {
      "cell_type": "code",
      "metadata": {
        "id": "foxHI8Gt6p4x",
        "colab_type": "code",
        "colab": {}
      },
      "source": [
        "### Feature selection ###\n",
        "\n",
        "from sklearn.feature_selection import SelectKBest\n",
        "from sklearn.feature_selection import f_regression"
      ],
      "execution_count": null,
      "outputs": []
    },
    {
      "cell_type": "code",
      "metadata": {
        "id": "1cDacSVr6p41",
        "colab_type": "code",
        "colab": {}
      },
      "source": [
        "X = temp_data"
      ],
      "execution_count": null,
      "outputs": []
    },
    {
      "cell_type": "code",
      "metadata": {
        "id": "ZJscgzDE6p43",
        "colab_type": "code",
        "colab": {}
      },
      "source": [
        "y = train_data[\"Attrition_rate\"]"
      ],
      "execution_count": null,
      "outputs": []
    },
    {
      "cell_type": "code",
      "metadata": {
        "id": "VqX1Zsp-6p44",
        "colab_type": "code",
        "colab": {
          "base_uri": "https://localhost:8080/",
          "height": 731
        },
        "outputId": "8c3e8d8b-4268-45b7-bde4-7ca7fe512d63"
      },
      "source": [
        "############# f_regression ##########\n",
        "\n",
        "bestfeatures = SelectKBest(score_func= f_regression, k=10)\n",
        "fit = bestfeatures.fit(X,y)\n",
        "\n",
        "dfscores = pd.DataFrame(fit.scores_)\n",
        "dfcolumns = pd.DataFrame(X.columns)\n",
        "\n",
        "featureScores = pd.concat([dfcolumns,dfscores],axis=1)\n",
        "featureScores.columns = ['Specs','Score']  #naming the dataframe columns\n",
        "\n",
        "featureScores"
      ],
      "execution_count": null,
      "outputs": [
        {
          "output_type": "execute_result",
          "data": {
            "text/html": [
              "<div>\n",
              "<style scoped>\n",
              "    .dataframe tbody tr th:only-of-type {\n",
              "        vertical-align: middle;\n",
              "    }\n",
              "\n",
              "    .dataframe tbody tr th {\n",
              "        vertical-align: top;\n",
              "    }\n",
              "\n",
              "    .dataframe thead th {\n",
              "        text-align: right;\n",
              "    }\n",
              "</style>\n",
              "<table border=\"1\" class=\"dataframe\">\n",
              "  <thead>\n",
              "    <tr style=\"text-align: right;\">\n",
              "      <th></th>\n",
              "      <th>Specs</th>\n",
              "      <th>Score</th>\n",
              "    </tr>\n",
              "  </thead>\n",
              "  <tbody>\n",
              "    <tr>\n",
              "      <th>0</th>\n",
              "      <td>Gender</td>\n",
              "      <td>5.706395</td>\n",
              "    </tr>\n",
              "    <tr>\n",
              "      <th>1</th>\n",
              "      <td>Age</td>\n",
              "      <td>1.576945</td>\n",
              "    </tr>\n",
              "    <tr>\n",
              "      <th>2</th>\n",
              "      <td>Education_Level</td>\n",
              "      <td>0.464089</td>\n",
              "    </tr>\n",
              "    <tr>\n",
              "      <th>3</th>\n",
              "      <td>Relationship_Status</td>\n",
              "      <td>0.580407</td>\n",
              "    </tr>\n",
              "    <tr>\n",
              "      <th>4</th>\n",
              "      <td>Hometown</td>\n",
              "      <td>0.322075</td>\n",
              "    </tr>\n",
              "    <tr>\n",
              "      <th>5</th>\n",
              "      <td>Unit</td>\n",
              "      <td>4.143021</td>\n",
              "    </tr>\n",
              "    <tr>\n",
              "      <th>6</th>\n",
              "      <td>Decision_skill_possess</td>\n",
              "      <td>2.294394</td>\n",
              "    </tr>\n",
              "    <tr>\n",
              "      <th>7</th>\n",
              "      <td>Time_of_service</td>\n",
              "      <td>2.071546</td>\n",
              "    </tr>\n",
              "    <tr>\n",
              "      <th>8</th>\n",
              "      <td>Time_since_promotion</td>\n",
              "      <td>1.348465</td>\n",
              "    </tr>\n",
              "    <tr>\n",
              "      <th>9</th>\n",
              "      <td>growth_rate</td>\n",
              "      <td>1.420629</td>\n",
              "    </tr>\n",
              "    <tr>\n",
              "      <th>10</th>\n",
              "      <td>Travel_Rate</td>\n",
              "      <td>1.112608</td>\n",
              "    </tr>\n",
              "    <tr>\n",
              "      <th>11</th>\n",
              "      <td>Post_Level</td>\n",
              "      <td>1.883242</td>\n",
              "    </tr>\n",
              "    <tr>\n",
              "      <th>12</th>\n",
              "      <td>Pay_Scale</td>\n",
              "      <td>1.583972</td>\n",
              "    </tr>\n",
              "    <tr>\n",
              "      <th>13</th>\n",
              "      <td>Compensation_and_Benefits</td>\n",
              "      <td>4.438039</td>\n",
              "    </tr>\n",
              "    <tr>\n",
              "      <th>14</th>\n",
              "      <td>Work_Life_balance</td>\n",
              "      <td>3.080226</td>\n",
              "    </tr>\n",
              "    <tr>\n",
              "      <th>15</th>\n",
              "      <td>VAR1</td>\n",
              "      <td>0.456138</td>\n",
              "    </tr>\n",
              "    <tr>\n",
              "      <th>16</th>\n",
              "      <td>VAR2</td>\n",
              "      <td>0.822576</td>\n",
              "    </tr>\n",
              "    <tr>\n",
              "      <th>17</th>\n",
              "      <td>VAR3</td>\n",
              "      <td>0.010845</td>\n",
              "    </tr>\n",
              "    <tr>\n",
              "      <th>18</th>\n",
              "      <td>VAR4</td>\n",
              "      <td>2.159360</td>\n",
              "    </tr>\n",
              "    <tr>\n",
              "      <th>19</th>\n",
              "      <td>VAR5</td>\n",
              "      <td>0.159197</td>\n",
              "    </tr>\n",
              "    <tr>\n",
              "      <th>20</th>\n",
              "      <td>VAR6</td>\n",
              "      <td>0.068559</td>\n",
              "    </tr>\n",
              "    <tr>\n",
              "      <th>21</th>\n",
              "      <td>VAR7</td>\n",
              "      <td>1.638352</td>\n",
              "    </tr>\n",
              "  </tbody>\n",
              "</table>\n",
              "</div>"
            ],
            "text/plain": [
              "                        Specs     Score\n",
              "0                      Gender  5.706395\n",
              "1                         Age  1.576945\n",
              "2             Education_Level  0.464089\n",
              "3         Relationship_Status  0.580407\n",
              "4                    Hometown  0.322075\n",
              "5                        Unit  4.143021\n",
              "6      Decision_skill_possess  2.294394\n",
              "7             Time_of_service  2.071546\n",
              "8        Time_since_promotion  1.348465\n",
              "9                 growth_rate  1.420629\n",
              "10                Travel_Rate  1.112608\n",
              "11                 Post_Level  1.883242\n",
              "12                  Pay_Scale  1.583972\n",
              "13  Compensation_and_Benefits  4.438039\n",
              "14          Work_Life_balance  3.080226\n",
              "15                       VAR1  0.456138\n",
              "16                       VAR2  0.822576\n",
              "17                       VAR3  0.010845\n",
              "18                       VAR4  2.159360\n",
              "19                       VAR5  0.159197\n",
              "20                       VAR6  0.068559\n",
              "21                       VAR7  1.638352"
            ]
          },
          "metadata": {
            "tags": []
          },
          "execution_count": 55
        }
      ]
    },
    {
      "cell_type": "code",
      "metadata": {
        "id": "e2mBORzp6p48",
        "colab_type": "code",
        "colab": {}
      },
      "source": [
        "from sklearn.feature_selection import mutual_info_regression"
      ],
      "execution_count": null,
      "outputs": []
    },
    {
      "cell_type": "code",
      "metadata": {
        "id": "Ycl5VBTx6p5A",
        "colab_type": "code",
        "colab": {}
      },
      "source": [
        "bestfeatures1 = SelectKBest(score_func= mutual_info_regression, k=10)\n",
        "fit1 = bestfeatures1.fit(X,y)\n",
        "\n",
        "dfscores1 = pd.DataFrame(fit1.scores_)\n",
        "dfcolumns1 = pd.DataFrame(X.columns)\n",
        "\n",
        "featureScores1 = pd.concat([dfcolumns1,dfscores1],axis=1)\n",
        "featureScores1.columns = ['Specs','Score']  #naming the dataframe columns\n",
        "\n",
        "featureScores1"
      ],
      "execution_count": null,
      "outputs": []
    },
    {
      "cell_type": "code",
      "metadata": {
        "id": "YhdLm49j6p5C",
        "colab_type": "code",
        "colab": {}
      },
      "source": [
        "from yellowbrick.target import FeatureCorrelation\n",
        "\n",
        "\n",
        "# Create a list of the feature names\n",
        "features = np.array(temp_data.columns)\n",
        "\n",
        "# Instantiate the visualizer\n",
        "visualizer = FeatureCorrelation(labels=features)\n",
        "\n",
        "visualizer.fit(X, y)        # Fit the data to the visualizer\n",
        "visualizer.show()"
      ],
      "execution_count": null,
      "outputs": []
    },
    {
      "cell_type": "code",
      "metadata": {
        "id": "v9sEPucQ6p5G",
        "colab_type": "code",
        "colab": {}
      },
      "source": [
        "discrete = [False for _ in range(len(features))]\n",
        "discrete[1] = True\n",
        "discrete"
      ],
      "execution_count": null,
      "outputs": []
    },
    {
      "cell_type": "code",
      "metadata": {
        "id": "hBm1-6C66p5L",
        "colab_type": "code",
        "colab": {}
      },
      "source": [
        "# Instantiate the visualizer\n",
        "visualizer = FeatureCorrelation(method='mutual_info-regression', labels=features)\n",
        "\n",
        "visualizer.fit(X, y, discrete_features= discrete, random_state=0)\n",
        "visualizer.show()"
      ],
      "execution_count": null,
      "outputs": []
    },
    {
      "cell_type": "code",
      "metadata": {
        "id": "pcN8Y-Yy6p5P",
        "colab_type": "code",
        "colab": {}
      },
      "source": [
        "### Create dataframe with only selected top K features ###\n",
        "X_data = X[['Gender','Unit','Decision_skill_possess','Time_of_service','Compensation_and_Benefits',\n",
        "            'Work_Life_balance','VAR4']]"
      ],
      "execution_count": null,
      "outputs": []
    },
    {
      "cell_type": "code",
      "metadata": {
        "id": "5suU9c7z6p5R",
        "colab_type": "code",
        "colab": {}
      },
      "source": [
        "X_train, X_test, Y_train, Y_test = train_test_split(X_data, y, test_size=0.25, random_state= 42)"
      ],
      "execution_count": null,
      "outputs": []
    },
    {
      "cell_type": "code",
      "metadata": {
        "id": "8PkTqIj36p5T",
        "colab_type": "code",
        "colab": {}
      },
      "source": [
        "from sklearn.ensemble import RandomForestRegressor\n",
        "\n",
        "model_rfr = RandomForestRegressor(n_estimators= 100,random_state = 42 ,max_depth= 3 , min_samples_leaf= 5)\n",
        "\n",
        "model_rfr.fit(X_train, Y_train)\n",
        "\n",
        "y_rfr_pred = model_rfr.predict(X_test)"
      ],
      "execution_count": null,
      "outputs": []
    },
    {
      "cell_type": "code",
      "metadata": {
        "id": "HEUpC5lr6p5X",
        "colab_type": "code",
        "colab": {
          "base_uri": "https://localhost:8080/",
          "height": 85
        },
        "outputId": "0a39fa02-f57a-418a-d6b2-dd595ddda199"
      },
      "source": [
        "mse_rfr = sqrt(mean_squared_error(Y_test, y_rfr_pred))\n",
        "print(\"\\n Root mean squared error (based on f_regressor values model): \", mse_rfr)\n",
        "\n",
        "acc_score = 100* max(0, 1- mse_rfr)\n",
        "\n",
        "print(\"\\n Result for all feature model (based on f_regressor values model): \", acc_score)"
      ],
      "execution_count": null,
      "outputs": [
        {
          "output_type": "stream",
          "text": [
            "\n",
            " Root mean squared error (based on f_regressor values model):  0.1882645475349247\n",
            "\n",
            " Result for all feature model (based on f_regressor values model):  81.17354524650753\n"
          ],
          "name": "stdout"
        }
      ]
    },
    {
      "cell_type": "code",
      "metadata": {
        "id": "jw_2eT9F6p5a",
        "colab_type": "code",
        "colab": {
          "base_uri": "https://localhost:8080/",
          "height": 1000
        },
        "outputId": "595aa07e-092e-448b-acd6-72acbf68d6f8"
      },
      "source": [
        "### grid search for the optimisation ###\n",
        "from sklearn.model_selection import GridSearchCV\n",
        "\n",
        "parameters_rf = {\n",
        "    'n_estimators':[20,25,50,100,150],\n",
        "    'random_state':[42],\n",
        "    'max_depth':[3,5,10,15,20,30],\n",
        "    'min_samples_leaf':[3,5,10],\n",
        "    'max_samples': [0.3,0.5,0.75,0.9,1.0],\n",
        "    'max_features':['log2','sqrt','auto']\n",
        "}\n",
        "\n",
        "\n",
        "\n",
        "\n",
        "gsearch_rf = GridSearchCV(estimator = model_rfr , param_grid = parameters_rf,\n",
        "                          n_jobs=-1,iid=False, verbose=10,scoring='neg_mean_squared_error')\n",
        "\n",
        "gsearch_rf.fit(X_data, y)"
      ],
      "execution_count": null,
      "outputs": [
        {
          "output_type": "stream",
          "text": [
            "Fitting 5 folds for each of 1350 candidates, totalling 6750 fits\n"
          ],
          "name": "stdout"
        },
        {
          "output_type": "stream",
          "text": [
            "[Parallel(n_jobs=-1)]: Using backend LokyBackend with 2 concurrent workers.\n",
            "[Parallel(n_jobs=-1)]: Done   1 tasks      | elapsed:    1.2s\n",
            "[Parallel(n_jobs=-1)]: Done   4 tasks      | elapsed:    1.3s\n",
            "[Parallel(n_jobs=-1)]: Done   9 tasks      | elapsed:    1.5s\n",
            "[Parallel(n_jobs=-1)]: Done  14 tasks      | elapsed:    1.7s\n",
            "[Parallel(n_jobs=-1)]: Done  21 tasks      | elapsed:    2.7s\n",
            "[Parallel(n_jobs=-1)]: Done  28 tasks      | elapsed:    3.4s\n",
            "[Parallel(n_jobs=-1)]: Done  37 tasks      | elapsed:    3.7s\n",
            "[Parallel(n_jobs=-1)]: Done  46 tasks      | elapsed:    4.7s\n",
            "[Parallel(n_jobs=-1)]: Done  57 tasks      | elapsed:    5.5s\n",
            "[Parallel(n_jobs=-1)]: Batch computation too fast (0.1929s.) Setting batch_size=2.\n",
            "[Parallel(n_jobs=-1)]: Done  72 tasks      | elapsed:    6.9s\n",
            "[Parallel(n_jobs=-1)]: Done  98 tasks      | elapsed:    9.1s\n",
            "[Parallel(n_jobs=-1)]: Done 124 tasks      | elapsed:   11.4s\n",
            "[Parallel(n_jobs=-1)]: Done 154 tasks      | elapsed:   13.7s\n",
            "[Parallel(n_jobs=-1)]: Done 184 tasks      | elapsed:   16.1s\n",
            "[Parallel(n_jobs=-1)]: Done 218 tasks      | elapsed:   19.2s\n",
            "[Parallel(n_jobs=-1)]: Done 252 tasks      | elapsed:   22.6s\n",
            "[Parallel(n_jobs=-1)]: Done 290 tasks      | elapsed:   25.7s\n",
            "[Parallel(n_jobs=-1)]: Batch computation too fast (0.1834s.) Setting batch_size=4.\n",
            "[Parallel(n_jobs=-1)]: Batch computation too fast (0.0486s.) Setting batch_size=8.\n",
            "[Parallel(n_jobs=-1)]: Done 334 tasks      | elapsed:   27.2s\n",
            "[Parallel(n_jobs=-1)]: Batch computation too fast (0.0810s.) Setting batch_size=16.\n",
            "[Parallel(n_jobs=-1)]: Batch computation too slow (2.4084s.) Setting batch_size=2.\n",
            "[Parallel(n_jobs=-1)]: Batch computation too slow (2.8841s.) Setting batch_size=1.\n",
            "[Parallel(n_jobs=-1)]: Done 496 tasks      | elapsed:   37.8s\n",
            "[Parallel(n_jobs=-1)]: Done 532 tasks      | elapsed:   39.9s\n",
            "[Parallel(n_jobs=-1)]: Done 555 tasks      | elapsed:   42.2s\n",
            "[Parallel(n_jobs=-1)]: Done 578 tasks      | elapsed:   44.4s\n",
            "[Parallel(n_jobs=-1)]: Done 603 tasks      | elapsed:   46.7s\n",
            "[Parallel(n_jobs=-1)]: Done 628 tasks      | elapsed:   49.1s\n",
            "[Parallel(n_jobs=-1)]: Done 655 tasks      | elapsed:   51.5s\n",
            "[Parallel(n_jobs=-1)]: Batch computation too fast (0.1823s.) Setting batch_size=2.\n",
            "[Parallel(n_jobs=-1)]: Done 682 tasks      | elapsed:   53.7s\n",
            "[Parallel(n_jobs=-1)]: Batch computation too fast (0.0305s.) Setting batch_size=4.\n",
            "[Parallel(n_jobs=-1)]: Batch computation too fast (0.0507s.) Setting batch_size=8.\n",
            "[Parallel(n_jobs=-1)]: Batch computation too fast (0.0914s.) Setting batch_size=16.\n",
            "[Parallel(n_jobs=-1)]: Batch computation too slow (2.1354s.) Setting batch_size=2.\n",
            "[Parallel(n_jobs=-1)]: Batch computation too slow (5.1182s.) Setting batch_size=1.\n",
            "[Parallel(n_jobs=-1)]: Done 879 tasks      | elapsed:  1.1min\n",
            "[Parallel(n_jobs=-1)]: Done 908 tasks      | elapsed:  1.2min\n",
            "[Parallel(n_jobs=-1)]: Done 939 tasks      | elapsed:  1.2min\n",
            "[Parallel(n_jobs=-1)]: Done 970 tasks      | elapsed:  1.3min\n",
            "[Parallel(n_jobs=-1)]: Done 1003 tasks      | elapsed:  1.4min\n",
            "[Parallel(n_jobs=-1)]: Done 1036 tasks      | elapsed:  1.4min\n",
            "[Parallel(n_jobs=-1)]: Batch computation too fast (0.1692s.) Setting batch_size=2.\n",
            "[Parallel(n_jobs=-1)]: Batch computation too fast (0.0312s.) Setting batch_size=4.\n",
            "[Parallel(n_jobs=-1)]: Batch computation too fast (0.0475s.) Setting batch_size=8.\n",
            "[Parallel(n_jobs=-1)]: Batch computation too fast (0.0876s.) Setting batch_size=16.\n",
            "[Parallel(n_jobs=-1)]: Done 1101 tasks      | elapsed:  1.5min\n",
            "[Parallel(n_jobs=-1)]: Batch computation too slow (2.2034s.) Setting batch_size=2.\n",
            "[Parallel(n_jobs=-1)]: Batch computation too slow (3.8286s.) Setting batch_size=1.\n",
            "[Parallel(n_jobs=-1)]: Done 1274 tasks      | elapsed:  1.7min\n",
            "[Parallel(n_jobs=-1)]: Done 1311 tasks      | elapsed:  1.8min\n",
            "[Parallel(n_jobs=-1)]: Done 1348 tasks      | elapsed:  1.8min\n",
            "[Parallel(n_jobs=-1)]: Done 1387 tasks      | elapsed:  1.9min\n",
            "[Parallel(n_jobs=-1)]: Done 1426 tasks      | elapsed:  2.0min\n",
            "[Parallel(n_jobs=-1)]: Batch computation too fast (0.1780s.) Setting batch_size=2.\n",
            "[Parallel(n_jobs=-1)]: Batch computation too fast (0.0304s.) Setting batch_size=4.\n",
            "[Parallel(n_jobs=-1)]: Batch computation too fast (0.0483s.) Setting batch_size=8.\n",
            "[Parallel(n_jobs=-1)]: Batch computation too fast (0.0798s.) Setting batch_size=16.\n",
            "[Parallel(n_jobs=-1)]: Batch computation too slow (2.2046s.) Setting batch_size=2.\n",
            "[Parallel(n_jobs=-1)]: Batch computation too slow (4.6067s.) Setting batch_size=1.\n",
            "[Parallel(n_jobs=-1)]: Done 1635 tasks      | elapsed:  2.2min\n",
            "[Parallel(n_jobs=-1)]: Done 1676 tasks      | elapsed:  2.3min\n",
            "[Parallel(n_jobs=-1)]: Done 1719 tasks      | elapsed:  2.3min\n",
            "[Parallel(n_jobs=-1)]: Done 1762 tasks      | elapsed:  2.4min\n",
            "[Parallel(n_jobs=-1)]: Done 1807 tasks      | elapsed:  2.5min\n",
            "[Parallel(n_jobs=-1)]: Batch computation too fast (0.1728s.) Setting batch_size=2.\n",
            "[Parallel(n_jobs=-1)]: Batch computation too fast (0.0319s.) Setting batch_size=4.\n",
            "[Parallel(n_jobs=-1)]: Batch computation too fast (0.0505s.) Setting batch_size=8.\n",
            "[Parallel(n_jobs=-1)]: Batch computation too fast (0.0861s.) Setting batch_size=16.\n",
            "[Parallel(n_jobs=-1)]: Batch computation too slow (2.9633s.) Setting batch_size=2.\n",
            "[Parallel(n_jobs=-1)]: Batch computation too slow (6.9798s.) Setting batch_size=1.\n",
            "[Parallel(n_jobs=-1)]: Done 2020 tasks      | elapsed:  2.8min\n",
            "[Parallel(n_jobs=-1)]: Done 2067 tasks      | elapsed:  2.9min\n",
            "[Parallel(n_jobs=-1)]: Done 2114 tasks      | elapsed:  3.1min\n",
            "[Parallel(n_jobs=-1)]: Done 2163 tasks      | elapsed:  3.2min\n",
            "[Parallel(n_jobs=-1)]: Batch computation too fast (0.1854s.) Setting batch_size=2.\n",
            "[Parallel(n_jobs=-1)]: Batch computation too fast (0.0285s.) Setting batch_size=4.\n",
            "[Parallel(n_jobs=-1)]: Batch computation too fast (0.0502s.) Setting batch_size=8.\n",
            "[Parallel(n_jobs=-1)]: Batch computation too fast (0.0818s.) Setting batch_size=16.\n",
            "[Parallel(n_jobs=-1)]: Batch computation too slow (2.8492s.) Setting batch_size=2.\n",
            "[Parallel(n_jobs=-1)]: Batch computation too slow (5.0570s.) Setting batch_size=1.\n",
            "[Parallel(n_jobs=-1)]: Done 2379 tasks      | elapsed:  3.5min\n",
            "[Parallel(n_jobs=-1)]: Done 2431 tasks      | elapsed:  3.6min\n",
            "[Parallel(n_jobs=-1)]: Done 2482 tasks      | elapsed:  3.7min\n",
            "[Parallel(n_jobs=-1)]: Done 2535 tasks      | elapsed:  3.9min\n",
            "[Parallel(n_jobs=-1)]: Batch computation too fast (0.1779s.) Setting batch_size=2.\n",
            "[Parallel(n_jobs=-1)]: Batch computation too fast (0.0346s.) Setting batch_size=4.\n",
            "[Parallel(n_jobs=-1)]: Batch computation too fast (0.0417s.) Setting batch_size=8.\n",
            "[Parallel(n_jobs=-1)]: Batch computation too fast (0.0698s.) Setting batch_size=16.\n",
            "[Parallel(n_jobs=-1)]: Batch computation too slow (2.6765s.) Setting batch_size=2.\n",
            "[Parallel(n_jobs=-1)]: Batch computation too slow (4.9597s.) Setting batch_size=1.\n",
            "[Parallel(n_jobs=-1)]: Done 2755 tasks      | elapsed:  4.1min\n",
            "[Parallel(n_jobs=-1)]: Done 2811 tasks      | elapsed:  4.3min\n",
            "[Parallel(n_jobs=-1)]: Done 2866 tasks      | elapsed:  4.4min\n",
            "[Parallel(n_jobs=-1)]: Done 2923 tasks      | elapsed:  4.5min\n",
            "[Parallel(n_jobs=-1)]: Batch computation too fast (0.1847s.) Setting batch_size=2.\n",
            "[Parallel(n_jobs=-1)]: Batch computation too fast (0.0327s.) Setting batch_size=4.\n",
            "[Parallel(n_jobs=-1)]: Batch computation too fast (0.0714s.) Setting batch_size=8.\n",
            "[Parallel(n_jobs=-1)]: Batch computation too fast (0.0936s.) Setting batch_size=16.\n",
            "[Parallel(n_jobs=-1)]: Batch computation too slow (2.6367s.) Setting batch_size=2.\n",
            "[Parallel(n_jobs=-1)]: Batch computation too slow (5.6485s.) Setting batch_size=1.\n",
            "[Parallel(n_jobs=-1)]: Done 3118 tasks      | elapsed:  4.9min\n",
            "[Parallel(n_jobs=-1)]: Done 3177 tasks      | elapsed:  5.1min\n",
            "[Parallel(n_jobs=-1)]: Done 3236 tasks      | elapsed:  5.4min\n",
            "[Parallel(n_jobs=-1)]: Done 3297 tasks      | elapsed:  5.7min\n",
            "[Parallel(n_jobs=-1)]: Batch computation too fast (0.1800s.) Setting batch_size=2.\n",
            "[Parallel(n_jobs=-1)]: Batch computation too fast (0.0283s.) Setting batch_size=4.\n",
            "[Parallel(n_jobs=-1)]: Batch computation too fast (0.0413s.) Setting batch_size=8.\n",
            "[Parallel(n_jobs=-1)]: Batch computation too fast (0.0823s.) Setting batch_size=16.\n",
            "[Parallel(n_jobs=-1)]: Batch computation too slow (2.2695s.) Setting batch_size=2.\n",
            "[Parallel(n_jobs=-1)]: Batch computation too slow (4.7897s.) Setting batch_size=1.\n",
            "[Parallel(n_jobs=-1)]: Done 3496 tasks      | elapsed:  5.9min\n",
            "[Parallel(n_jobs=-1)]: Done 3559 tasks      | elapsed:  6.1min\n",
            "[Parallel(n_jobs=-1)]: Done 3622 tasks      | elapsed:  6.2min\n",
            "[Parallel(n_jobs=-1)]: Batch computation too fast (0.1920s.) Setting batch_size=2.\n",
            "[Parallel(n_jobs=-1)]: Batch computation too fast (0.0316s.) Setting batch_size=4.\n",
            "[Parallel(n_jobs=-1)]: Done 3689 tasks      | elapsed:  6.4min\n",
            "[Parallel(n_jobs=-1)]: Batch computation too fast (0.0341s.) Setting batch_size=8.\n",
            "[Parallel(n_jobs=-1)]: Batch computation too fast (0.0668s.) Setting batch_size=16.\n",
            "[Parallel(n_jobs=-1)]: Batch computation too slow (2.8713s.) Setting batch_size=2.\n",
            "[Parallel(n_jobs=-1)]: Batch computation too slow (6.3167s.) Setting batch_size=1.\n",
            "[Parallel(n_jobs=-1)]: Done 3920 tasks      | elapsed:  6.7min\n",
            "[Parallel(n_jobs=-1)]: Done 3987 tasks      | elapsed:  6.9min\n",
            "[Parallel(n_jobs=-1)]: Done 4054 tasks      | elapsed:  7.1min\n",
            "[Parallel(n_jobs=-1)]: Batch computation too fast (0.1816s.) Setting batch_size=2.\n",
            "[Parallel(n_jobs=-1)]: Batch computation too fast (0.0354s.) Setting batch_size=4.\n",
            "[Parallel(n_jobs=-1)]: Batch computation too fast (0.0384s.) Setting batch_size=8.\n",
            "[Parallel(n_jobs=-1)]: Batch computation too fast (0.0697s.) Setting batch_size=16.\n",
            "[Parallel(n_jobs=-1)]: Batch computation too slow (3.1866s.) Setting batch_size=2.\n",
            "[Parallel(n_jobs=-1)]: Batch computation too slow (6.8956s.) Setting batch_size=1.\n",
            "[Parallel(n_jobs=-1)]: Done 4261 tasks      | elapsed:  7.5min\n",
            "[Parallel(n_jobs=-1)]: Done 4330 tasks      | elapsed:  7.9min\n",
            "[Parallel(n_jobs=-1)]: Done 4401 tasks      | elapsed:  8.3min\n",
            "[Parallel(n_jobs=-1)]: Batch computation too fast (0.1869s.) Setting batch_size=2.\n",
            "[Parallel(n_jobs=-1)]: Batch computation too fast (0.0312s.) Setting batch_size=4.\n",
            "[Parallel(n_jobs=-1)]: Batch computation too fast (0.0567s.) Setting batch_size=8.\n",
            "[Parallel(n_jobs=-1)]: Batch computation too fast (0.0787s.) Setting batch_size=16.\n",
            "[Parallel(n_jobs=-1)]: Batch computation too slow (2.4011s.) Setting batch_size=2.\n",
            "[Parallel(n_jobs=-1)]: Batch computation too slow (5.1821s.) Setting batch_size=1.\n",
            "[Parallel(n_jobs=-1)]: Done 4610 tasks      | elapsed:  8.6min\n",
            "[Parallel(n_jobs=-1)]: Done 4683 tasks      | elapsed:  8.8min\n",
            "[Parallel(n_jobs=-1)]: Done 4756 tasks      | elapsed:  9.0min\n",
            "[Parallel(n_jobs=-1)]: Batch computation too fast (0.1827s.) Setting batch_size=2.\n",
            "[Parallel(n_jobs=-1)]: Batch computation too fast (0.0321s.) Setting batch_size=4.\n",
            "[Parallel(n_jobs=-1)]: Batch computation too fast (0.0645s.) Setting batch_size=8.\n",
            "[Parallel(n_jobs=-1)]: Batch computation too fast (0.0793s.) Setting batch_size=16.\n",
            "[Parallel(n_jobs=-1)]: Batch computation too slow (2.8700s.) Setting batch_size=2.\n",
            "[Parallel(n_jobs=-1)]: Done 4980 tasks      | elapsed:  9.3min\n",
            "[Parallel(n_jobs=-1)]: Batch computation too slow (5.4089s.) Setting batch_size=1.\n",
            "[Parallel(n_jobs=-1)]: Done 5074 tasks      | elapsed:  9.5min\n",
            "[Parallel(n_jobs=-1)]: Done 5151 tasks      | elapsed:  9.7min\n",
            "[Parallel(n_jobs=-1)]: Batch computation too fast (0.1886s.) Setting batch_size=2.\n",
            "[Parallel(n_jobs=-1)]: Batch computation too fast (0.0323s.) Setting batch_size=4.\n",
            "[Parallel(n_jobs=-1)]: Batch computation too fast (0.0470s.) Setting batch_size=8.\n",
            "[Parallel(n_jobs=-1)]: Batch computation too fast (0.0885s.) Setting batch_size=16.\n",
            "[Parallel(n_jobs=-1)]: Batch computation too slow (3.0570s.) Setting batch_size=2.\n",
            "[Parallel(n_jobs=-1)]: Batch computation too slow (5.9609s.) Setting batch_size=1.\n",
            "[Parallel(n_jobs=-1)]: Done 5366 tasks      | elapsed: 10.2min\n",
            "[Parallel(n_jobs=-1)]: Done 5445 tasks      | elapsed: 10.5min\n",
            "[Parallel(n_jobs=-1)]: Done 5524 tasks      | elapsed: 11.0min\n",
            "[Parallel(n_jobs=-1)]: Batch computation too fast (0.1888s.) Setting batch_size=2.\n",
            "[Parallel(n_jobs=-1)]: Batch computation too fast (0.0422s.) Setting batch_size=4.\n",
            "[Parallel(n_jobs=-1)]: Batch computation too fast (0.0412s.) Setting batch_size=8.\n",
            "[Parallel(n_jobs=-1)]: Batch computation too fast (0.0669s.) Setting batch_size=16.\n",
            "[Parallel(n_jobs=-1)]: Batch computation too slow (2.2325s.) Setting batch_size=2.\n",
            "[Parallel(n_jobs=-1)]: Batch computation too slow (4.8866s.) Setting batch_size=1.\n",
            "[Parallel(n_jobs=-1)]: Done 5743 tasks      | elapsed: 11.3min\n",
            "[Parallel(n_jobs=-1)]: Done 5824 tasks      | elapsed: 11.5min\n",
            "[Parallel(n_jobs=-1)]: Done 5907 tasks      | elapsed: 11.8min\n",
            "[Parallel(n_jobs=-1)]: Batch computation too fast (0.1840s.) Setting batch_size=2.\n",
            "[Parallel(n_jobs=-1)]: Batch computation too fast (0.0410s.) Setting batch_size=4.\n",
            "[Parallel(n_jobs=-1)]: Batch computation too fast (0.0413s.) Setting batch_size=8.\n",
            "[Parallel(n_jobs=-1)]: Batch computation too fast (0.0982s.) Setting batch_size=16.\n",
            "[Parallel(n_jobs=-1)]: Batch computation too slow (2.7946s.) Setting batch_size=2.\n",
            "[Parallel(n_jobs=-1)]: Batch computation too slow (6.1330s.) Setting batch_size=1.\n",
            "[Parallel(n_jobs=-1)]: Done 6158 tasks      | elapsed: 12.1min\n",
            "[Parallel(n_jobs=-1)]: Done 6243 tasks      | elapsed: 12.3min\n",
            "[Parallel(n_jobs=-1)]: Batch computation too fast (0.1858s.) Setting batch_size=2.\n",
            "[Parallel(n_jobs=-1)]: Batch computation too fast (0.0369s.) Setting batch_size=4.\n",
            "[Parallel(n_jobs=-1)]: Batch computation too fast (0.0475s.) Setting batch_size=8.\n",
            "[Parallel(n_jobs=-1)]: Batch computation too fast (0.0895s.) Setting batch_size=16.\n",
            "[Parallel(n_jobs=-1)]: Batch computation too slow (3.2141s.) Setting batch_size=1.\n",
            "[Parallel(n_jobs=-1)]: Done 6432 tasks      | elapsed: 12.7min\n",
            "[Parallel(n_jobs=-1)]: Done 6549 tasks      | elapsed: 13.2min\n",
            "[Parallel(n_jobs=-1)]: Done 6636 tasks      | elapsed: 13.6min\n",
            "[Parallel(n_jobs=-1)]: Batch computation too fast (0.1893s.) Setting batch_size=2.\n",
            "[Parallel(n_jobs=-1)]: Batch computation too fast (0.0332s.) Setting batch_size=4.\n",
            "[Parallel(n_jobs=-1)]: Batch computation too fast (0.0509s.) Setting batch_size=8.\n",
            "[Parallel(n_jobs=-1)]: Batch computation too fast (0.0638s.) Setting batch_size=16.\n",
            "[Parallel(n_jobs=-1)]: Done 6750 out of 6750 | elapsed: 13.8min finished\n",
            "/usr/local/lib/python3.6/dist-packages/sklearn/model_selection/_search.py:823: FutureWarning: The parameter 'iid' is deprecated in 0.22 and will be removed in 0.24.\n",
            "  \"removed in 0.24.\", FutureWarning\n"
          ],
          "name": "stderr"
        },
        {
          "output_type": "execute_result",
          "data": {
            "text/plain": [
              "GridSearchCV(cv=None, error_score=nan,\n",
              "             estimator=RandomForestRegressor(bootstrap=True, ccp_alpha=0.0,\n",
              "                                             criterion='mse', max_depth=3,\n",
              "                                             max_features='auto',\n",
              "                                             max_leaf_nodes=None,\n",
              "                                             max_samples=None,\n",
              "                                             min_impurity_decrease=0.0,\n",
              "                                             min_impurity_split=None,\n",
              "                                             min_samples_leaf=5,\n",
              "                                             min_samples_split=2,\n",
              "                                             min_weight_fraction_leaf=0.0,\n",
              "                                             n_estimators=100, n_jobs=None,\n",
              "                                             oob_score=False, rand...\n",
              "                                             verbose=0, warm_start=False),\n",
              "             iid=False, n_jobs=-1,\n",
              "             param_grid={'max_depth': [3, 5, 10, 15, 20, 30],\n",
              "                         'max_features': ['log2', 'sqrt', 'auto'],\n",
              "                         'max_samples': [0.3, 0.5, 0.75, 0.9, 1.0],\n",
              "                         'min_samples_leaf': [3, 5, 10],\n",
              "                         'n_estimators': [20, 25, 50, 100, 150],\n",
              "                         'random_state': [42]},\n",
              "             pre_dispatch='2*n_jobs', refit=True, return_train_score=False,\n",
              "             scoring='neg_mean_squared_error', verbose=10)"
            ]
          },
          "metadata": {
            "tags": []
          },
          "execution_count": 60
        }
      ]
    },
    {
      "cell_type": "code",
      "metadata": {
        "id": "G5cwqtfd6p5c",
        "colab_type": "code",
        "colab": {
          "base_uri": "https://localhost:8080/",
          "height": 85
        },
        "outputId": "c7829b36-5373-4607-c9d5-c46f35594cc0"
      },
      "source": [
        "print('best params')\n",
        "print (gsearch_rf.best_params_)\n",
        "\n",
        "print('best score')\n",
        "print (gsearch_rf.best_score_)"
      ],
      "execution_count": null,
      "outputs": [
        {
          "output_type": "stream",
          "text": [
            "best params\n",
            "{'max_depth': 3, 'max_features': 'log2', 'max_samples': 0.75, 'min_samples_leaf': 5, 'n_estimators': 25, 'random_state': 42}\n",
            "best score\n",
            "-0.034439338741733536\n"
          ],
          "name": "stdout"
        }
      ]
    },
    {
      "cell_type": "code",
      "metadata": {
        "id": "WheLyYEz6p5f",
        "colab_type": "code",
        "colab": {}
      },
      "source": [
        "### Model with optimised parameters ###\n",
        "new_model_rfr = RandomForestRegressor(n_estimators= 25,random_state = 42 ,max_depth= 3 , min_samples_leaf= 5,\n",
        "                                 max_samples = 0.75,max_features= 'log2' )\n",
        "\n",
        "new_model_rfr.fit(X_train, Y_train)\n",
        "\n",
        "new_y_rfr_pred = new_model_rfr.predict(X_test)"
      ],
      "execution_count": null,
      "outputs": []
    },
    {
      "cell_type": "code",
      "metadata": {
        "id": "o6GoG6Y66p5h",
        "colab_type": "code",
        "colab": {
          "base_uri": "https://localhost:8080/",
          "height": 85
        },
        "outputId": "a94a0b73-3e76-448a-f0ed-c97455659cd9"
      },
      "source": [
        "new_mse_rfr = sqrt(mean_squared_error(Y_test, new_y_rfr_pred))\n",
        "print(\"\\n Root mean squared error (based on f_regressor values model): \", new_mse_rfr)\n",
        "\n",
        "new_acc_score = 100* max(0, 1- new_mse_rfr)\n",
        "\n",
        "print(\"\\n Result for all feature model (based on f_regressor values model): \", new_acc_score)"
      ],
      "execution_count": null,
      "outputs": [
        {
          "output_type": "stream",
          "text": [
            "\n",
            " Root mean squared error (based on f_regressor values model):  0.18823955055276204\n",
            "\n",
            " Result for all feature model (based on f_regressor values model):  81.17604494472378\n"
          ],
          "name": "stdout"
        }
      ]
    }
  ]
}